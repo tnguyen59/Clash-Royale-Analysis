{
 "cells": [
  {
   "cell_type": "markdown",
   "id": "2c2242aa-cce9-4fcf-9f3d-4b504774030e",
   "metadata": {},
   "source": [
    "# Brendan's Notebook\n",
    "## Brainstorm\n",
    "\n",
    "### Most used and least used decks \n",
    "\n",
    "### Decks with highest and lowest win rate\n",
    "\n",
    "### Winrates of decks based on composition in terms of card types\n"
   ]
  },
  {
   "cell_type": "code",
   "execution_count": 35,
   "id": "760327c0-19de-4d70-9993-b1b639317068",
   "metadata": {},
   "outputs": [
    {
     "name": "stdout",
     "output_type": "stream",
     "text": [
      "defaultdict(<function <lambda> at 0x7f7a2014c280>, {8: 45795, 25: 79619, 11: 314353, 10: 214189, 26: 151881, 15: 190034, 4: 188836, 3: 63147, 5: 86394, 2: 14658, 6: 206473, 19: 52219, 0: 152429, 27: 203831, 87: 452233, 9: 81714, 37: 215819, 12: 196718, 52: 45047, 16: 126102, 13: 65897, 23: 68195, 7: 86820, 43: 107759, 47: 39233, 32: 143777, 21: 240127, 14: 113675, 17: 104706, 18: 140112, 42: 299980, 33: 56494, 1: 50857, 54: 61037, 30: 124903, 20: 28556, 41: 152385, 46: 170088, 24: 53761, 57: 80031, 55: 218961, 35: 140233, 77: 119931, 40: 108475, 34: 66651, 28: 12503, 49: 183844, 31: 51577, 36: 70129, 72: 99446, 56: 92501, 22: 54751, 44: 33044, 39: 190847, 29: 75386, 65: 32154, 50: 101024, 51: 70997, 45: 50939, 75: 40635, 64: 117924, 38: 78430, 48: 70908, 58: 41736, 74: 55905, 89: 92886, 63: 77566, 80: 153201, 61: 37426, 62: 101520, 68: 104067, 69: 62900, 59: 69235, 53: 35965, 84: 70088, 88: 293831, 67: 13071, 86: 18729, 71: 67620, 90: 129635, 85: 117324, 66: 27863, 92: 93732, 79: 5542, 70: 42334, 78: 36710, 81: 15325, 73: 53894, 60: 32185, 76: 30395, 93: 33035, 91: 194722, 96: 114546, 83: 75832, 82: 34902, 95: 389347, 94: 173722, 98: 441936, 101: 62820, 99: 262917, 97: 90092, 100: 23811, 102: 249380, 103: 29676, 104: 66446, 105: 27133})\n"
     ]
    }
   ],
   "source": [
    "import pandas as pd\n",
    "import matplotlib.pyplot as plt\n",
    "import seaborn as sns\n",
    "import numpy as np\n",
    "\n",
    "data_games = pd.read_csv(\"data_ord.csv\")\n",
    "\n",
    "data_cards = pd.read_csv(\"cardlist.csv\")\n",
    "\n",
    "\n",
    "from collections import defaultdict\n",
    "dict_cards_1 = {} \n",
    "dict_cards_1 = defaultdict(lambda:0,dict_cards_1)\n",
    "def get_cards(card):\n",
    "    dict_cards_1[card] = dict_cards_1[card] + 1\n",
    "    \n",
    "data_games[\"p1card1\"].apply(lambda curr_card: get_cards(curr_card))\n",
    "data_games[\"p1card2\"].apply(lambda curr_card: get_cards(curr_card))\n",
    "data_games[\"p1card3\"].apply(lambda curr_card: get_cards(curr_card))\n",
    "data_games[\"p1card4\"].apply(lambda curr_card: get_cards(curr_card))\n",
    "data_games[\"p1card5\"].apply(lambda curr_card: get_cards(curr_card))\n",
    "data_games[\"p1card6\"].apply(lambda curr_card: get_cards(curr_card))\n",
    "data_games[\"p1card7\"].apply(lambda curr_card: get_cards(curr_card))\n",
    "data_games[\"p1card8\"].apply(lambda curr_card: get_cards(curr_card))\n",
    "data_games[\"p2card1\"].apply(lambda curr_card: get_cards(curr_card))\n",
    "data_games[\"p2card2\"].apply(lambda curr_card: get_cards(curr_card))\n",
    "data_games[\"p2card3\"].apply(lambda curr_card: get_cards(curr_card))\n",
    "data_games[\"p2card4\"].apply(lambda curr_card: get_cards(curr_card))\n",
    "data_games[\"p2card5\"].apply(lambda curr_card: get_cards(curr_card))\n",
    "data_games[\"p2card6\"].apply(lambda curr_card: get_cards(curr_card))\n",
    "data_games[\"p2card7\"].apply(lambda curr_card: get_cards(curr_card))\n",
    "data_games[\"p2card8\"].apply(lambda curr_card: get_cards(curr_card))\n",
    "print(dict_cards_1)"
   ]
  },
  {
   "cell_type": "code",
   "execution_count": null,
   "id": "7ed909ae-ef09-4fea-b414-277b1d0eca04",
   "metadata": {},
   "outputs": [],
   "source": []
  }
 ],
 "metadata": {
  "kernelspec": {
   "display_name": "Python 3 (ipykernel)",
   "language": "python",
   "name": "python3"
  },
  "language_info": {
   "codemirror_mode": {
    "name": "ipython",
    "version": 3
   },
   "file_extension": ".py",
   "mimetype": "text/x-python",
   "name": "python",
   "nbconvert_exporter": "python",
   "pygments_lexer": "ipython3",
   "version": "3.9.7"
  }
 },
 "nbformat": 4,
 "nbformat_minor": 5
}
