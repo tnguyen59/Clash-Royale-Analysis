{
 "cells": [
  {
   "cell_type": "markdown",
   "id": "2c2242aa-cce9-4fcf-9f3d-4b504774030e",
   "metadata": {},
   "source": [
    "# Brendan's Notebook\n",
    "## Brainstorm\n",
    "\n",
    "### Most used and least used decks \n",
    "\n",
    "### Decks with highest and lowest win rate\n",
    "\n",
    "### Winrates of decks based on composition in terms of card types\n"
   ]
  },
  {
   "cell_type": "code",
   "execution_count": 22,
   "id": "760327c0-19de-4d70-9993-b1b639317068",
   "metadata": {},
   "outputs": [
    {
     "data": {
      "text/plain": [
       "0         None\n",
       "1         None\n",
       "2         None\n",
       "3         None\n",
       "4         None\n",
       "          ... \n",
       "718881    None\n",
       "718882    None\n",
       "718883    None\n",
       "718884    None\n",
       "718885    None\n",
       "Length: 718886, dtype: object"
      ]
     },
     "execution_count": 22,
     "metadata": {},
     "output_type": "execute_result"
    }
   ],
   "source": [
    "import pandas as pd\n",
    "import matplotlib.pyplot as plt\n",
    "import seaborn as sns\n",
    "import numpy as np\n",
    "from collections import defaultdict\n",
    "from collections import Counter\n",
    "\n",
    "data_games = pd.read_csv(\"data_ord.csv\")\n",
    "data_cards = pd.read_csv(\"cardlist.csv\")\n",
    "\n",
    "# Extracting interesting deck data\n",
    "dict_decks_general = {} \n",
    "dict_decks_general = defaultdict(lambda:0,dict_decks_general)\n",
    "dict_decks_winning_only = {} \n",
    "dict_decks_winning_only = defaultdict(lambda:0,dict_decks_winning_only)\n",
    "def get_decks(p1_deck,p2_deck,result):\n",
    "    global dict_decks_general\n",
    "    global dict_decks_winning_only\n",
    "    dict_decks_general[p1_deck] = dict_decks_general[p1_deck] + 1\n",
    "    dict_decks_general[p2_deck] = dict_decks_general[p2_deck] + 1\n",
    "    if(result == 1):\n",
    "        dict_decks_winning_only[p1_deck] = dict_decks_winning_only[p1_deck] + 1\n",
    "    else:\n",
    "        dict_decks_winning_only[p2_deck] = dict_decks_winning_only[p2_deck] + 1\n",
    "        \n",
    "data_games.apply(lambda x: get_decks((x[\"p1card1\"],x[\"p1card2\"],x[\"p1card3\"],x[\"p1card4\"],x[\"p1card5\"],x[\"p1card6\"],x[\"p1card7\"],x[\"p1card8\"]),(x[\"p2card1\"],x[\"p2card2\"],x[\"p2card3\"],x[\"p2card4\"],x[\"p2card5\"],x[\"p2card6\"],x[\"p2card7\"],x[\"p2card8\"]),x[\"outcome\"]), axis=1)"
   ]
  },
  {
   "cell_type": "code",
   "execution_count": 77,
   "id": "7ed909ae-ef09-4fea-b414-277b1d0eca04",
   "metadata": {},
   "outputs": [
    {
     "name": "stdout",
     "output_type": "stream",
     "text": [
      "There are 327658 unique decks used\n",
      "\n",
      "\n",
      "These are the 5 most popular decks\n",
      "[((4, 36, 42, 46, 50, 62, 87, 95), 24027), ((0, 26, 30, 41, 77, 90, 91, 98), 18166), ((6, 34, 35, 37, 63, 92, 99, 102), 16286), ((0, 1, 10, 72, 80, 82, 87, 98), 10385)]\n",
      "\n",
      "\n",
      "There were 232547 decks used only once\n",
      "\n",
      "\n",
      "There are 169313 decks that earned a win\n",
      "\n",
      "\n",
      "These are the 5 decks with the most wins\n",
      "[((4, 36, 42, 46, 50, 62, 87, 95), 12734), ((6, 34, 35, 37, 63, 92, 99, 102), 9002), ((0, 26, 30, 41, 77, 90, 91, 98), 8849), ((0, 1, 10, 72, 80, 82, 87, 98), 5229)]\n"
     ]
    }
   ],
   "source": [
    "# Exploring deck data found\n",
    "\n",
    "most_common_decks = Counter(dict_decks_general).most_common()\n",
    "print(\"There are \"+str(len(most_common_decks)) + \" unique decks used\")\n",
    "print(\"\\n\")\n",
    "print(\"These are the 5 most popular decks\")\n",
    "print(most_common_decks[1:5])\n",
    "print(\"\\n\")\n",
    "number_of_one_off_decks = Counter(dict_decks_general.values()).most_common(1)\n",
    "print(\"There were \" + str(number_of_one_off_decks[0][1]) + \" decks used only once\")\n",
    "print(\"\\n\")\n",
    "most_common_winning_decks = Counter(dict_decks_winning_only).most_common()\n",
    "print(\"There are \"+str(len(most_common_winning_decks)) + \" decks that earned a win\")\n",
    "print(\"\\n\")\n",
    "print(\"These are the 5 decks with the most wins\")\n",
    "print(most_common_winning_decks[1:5])"
   ]
  },
  {
   "cell_type": "code",
   "execution_count": 86,
   "id": "ebd01aac-e59d-4557-9520-fee596c9dc39",
   "metadata": {},
   "outputs": [
    {
     "name": "stdout",
     "output_type": "stream",
     "text": [
      "[((6, 10, 11, 56, 77, 80, 88, 98), 100.0), ((7, 27, 34, 37, 52, 92, 97, 99), 100.0), ((9, 12, 13, 48, 49, 67, 70, 99), 100.0), ((4, 14, 27, 51, 94, 95, 99, 102), 100.0), ((12, 21, 31, 40, 43, 45, 49, 98), 100.0), ((2, 4, 7, 41, 49, 72, 74, 105), 100.0), ((5, 11, 14, 18, 24, 51, 88, 98), 100.0), ((4, 27, 42, 51, 62, 71, 94, 102), 100.0), ((11, 12, 32, 49, 68, 87, 98, 105), 100.0)]\n"
     ]
    },
    {
     "data": {
      "text/html": [
       "<div>\n",
       "<style scoped>\n",
       "    .dataframe tbody tr th:only-of-type {\n",
       "        vertical-align: middle;\n",
       "    }\n",
       "\n",
       "    .dataframe tbody tr th {\n",
       "        vertical-align: top;\n",
       "    }\n",
       "\n",
       "    .dataframe thead th {\n",
       "        text-align: right;\n",
       "    }\n",
       "</style>\n",
       "<table border=\"1\" class=\"dataframe\">\n",
       "  <thead>\n",
       "    <tr style=\"text-align: right;\">\n",
       "      <th></th>\n",
       "      <th>deck</th>\n",
       "      <th>win_rate</th>\n",
       "      <th>occurences</th>\n",
       "    </tr>\n",
       "  </thead>\n",
       "  <tbody>\n",
       "    <tr>\n",
       "      <th>0</th>\n",
       "      <td>(10, 14, 21, 30, 38, 74, 87, 98)</td>\n",
       "      <td>48.656072</td>\n",
       "      <td>15767</td>\n",
       "    </tr>\n",
       "    <tr>\n",
       "      <th>1</th>\n",
       "      <td>(4, 36, 42, 46, 50, 62, 87, 95)</td>\n",
       "      <td>52.998710</td>\n",
       "      <td>12734</td>\n",
       "    </tr>\n",
       "    <tr>\n",
       "      <th>2</th>\n",
       "      <td>(6, 34, 35, 37, 63, 92, 99, 102)</td>\n",
       "      <td>55.274469</td>\n",
       "      <td>9002</td>\n",
       "    </tr>\n",
       "    <tr>\n",
       "      <th>3</th>\n",
       "      <td>(0, 26, 30, 41, 77, 90, 91, 98)</td>\n",
       "      <td>48.711879</td>\n",
       "      <td>8849</td>\n",
       "    </tr>\n",
       "    <tr>\n",
       "      <th>4</th>\n",
       "      <td>(0, 1, 10, 72, 80, 82, 87, 98)</td>\n",
       "      <td>50.351468</td>\n",
       "      <td>5229</td>\n",
       "    </tr>\n",
       "  </tbody>\n",
       "</table>\n",
       "</div>"
      ],
      "text/plain": [
       "                               deck   win_rate  occurences\n",
       "0  (10, 14, 21, 30, 38, 74, 87, 98)  48.656072       15767\n",
       "1   (4, 36, 42, 46, 50, 62, 87, 95)  52.998710       12734\n",
       "2  (6, 34, 35, 37, 63, 92, 99, 102)  55.274469        9002\n",
       "3   (0, 26, 30, 41, 77, 90, 91, 98)  48.711879        8849\n",
       "4    (0, 1, 10, 72, 80, 82, 87, 98)  50.351468        5229"
      ]
     },
     "execution_count": 86,
     "metadata": {},
     "output_type": "execute_result"
    }
   ],
   "source": [
    "# Extracting winrates of decks\n",
    "dict_win_rate = {}\n",
    "dict_win_rate = defaultdict(lambda:0,dict_win_rate)\n",
    "decks = []\n",
    "win_rates = []\n",
    "occurences = []\n",
    "for (deck, count) in most_common_winning_decks:\n",
    "    dict_win_rate[deck] = (count/dict_decks_general[deck])*100\n",
    "    decks.append(deck)\n",
    "    win_rates.append((count/dict_decks_general[deck])*100)\n",
    "    occurences.append(count)\n",
    "    \n",
    "win_rate = Counter(dict_win_rate).most_common()\n",
    "print(win_rate[1:10])\n",
    "\n",
    "# extracting win_rate data as a\n",
    "data_win_rate = pd.DataFrame({\"deck\": decks, \"win_rate\": win_rates, \"occurences\": occurences})\n",
    "data_win_rate.head()"
   ]
  },
  {
   "cell_type": "code",
   "execution_count": 87,
   "id": "c0d12085-e670-4615-bc9f-73489d90ade7",
   "metadata": {},
   "outputs": [
    {
     "name": "stdout",
     "output_type": "stream",
     "text": [
      "[((6, 34, 35, 37, 68, 92, 99, 102), 62.43386243386243), ((5, 6, 12, 22, 29, 32, 41, 88), 61.76470588235294), ((9, 15, 35, 43, 63, 99, 102, 103), 61.575178997613364), ((36, 42, 46, 50, 54, 62, 102, 104), 61.32404181184668), ((5, 6, 8, 29, 32, 37, 88, 95), 60.45454545454545), ((16, 26, 27, 40, 53, 90, 91, 98), 60.290556900726386), ((11, 12, 13, 31, 58, 80, 86, 87), 60.285714285714285), ((47, 52, 57, 59, 85, 87, 88, 98), 60.0), ((4, 42, 50, 51, 62, 69, 87, 102), 59.818731117824775)]\n"
     ]
    }
   ],
   "source": [
    "# Extracting win-rate of 500 most popular decks\n",
    "most_common_500 = most_common_decks[1:500]\n",
    "win_rate_common_500 = {} \n",
    "win_rate_common_500 = defaultdict(lambda:0,win_rate_common_500)\n",
    "for (deck, count) in most_common_500:\n",
    "    win_rate_common_500[deck] = dict_win_rate[deck]\n",
    "\n",
    "# Finding the 10 decks with the highest win-rate from this list\n",
    "most_common_win_rate = Counter(win_rate_common_500).most_common()\n",
    "print(most_common_win_rate[1:10])"
   ]
  },
  {
   "cell_type": "code",
   "execution_count": 88,
   "id": "01073944-6ed1-42dc-8bab-87030320b7e1",
   "metadata": {},
   "outputs": [
    {
     "name": "stdout",
     "output_type": "stream",
     "text": [
      "[((6, 15, 34, 35, 63, 92, 99, 102), 63.46153846153846), ((15, 39, 42, 69, 83, 96, 97, 102), 62.66666666666667), ((8, 29, 32, 37, 57, 70, 83, 88), 62.43386243386243), ((6, 34, 35, 37, 68, 92, 99, 102), 62.43386243386243), ((0, 26, 41, 56, 77, 90, 91, 98), 62.27544910179641), ((37, 48, 63, 65, 66, 88, 89, 99), 62.17948717948718), ((4, 36, 42, 46, 50, 62, 96, 104), 61.963190184049076), ((5, 6, 12, 22, 29, 32, 41, 88), 61.76470588235294), ((9, 15, 35, 43, 63, 99, 102, 103), 61.575178997613364)]\n"
     ]
    }
   ],
   "source": [
    "# Extracting win-rate of decks 500 decks with the most wins\n",
    "most_common_winning_500 = most_common_winning_decks[1:500]\n",
    "win_rate_winning_500 = {} \n",
    "win_rate_winning_500 = defaultdict(lambda:0,win_rate_winning_500)\n",
    "for (deck, count) in most_common_winning_500:\n",
    "    win_rate_winning_500[deck] = dict_win_rate[deck]\n",
    "\n",
    "# Finding the 10 decks with the highest win-rate from this list\n",
    "most_winning_win_rate = Counter(win_rate_winning_500).most_common()\n",
    "print(most_winning_win_rate[1:10])"
   ]
  },
  {
   "cell_type": "code",
   "execution_count": 89,
   "id": "f549b4f8-bc75-49f5-9b0c-81fcb87aa55c",
   "metadata": {},
   "outputs": [
    {
     "data": {
      "image/png": "[encoded data removed]",
      "text/plain": [
       "<Figure size 432x288 with 1 Axes>"
      ]
     },
     "metadata": {
      "needs_background": "light"
     },
     "output_type": "display_data"
    }
   ],
   "source": [
    "# Creating plot\n",
    "fig, ax = plt.subplots()\n",
    "# Setting labels\n",
    "ax.set_ylabel(\"Win Rate\")\n",
    "ax.set_xlabel(\"Occurences\")\n",
    "ax.set_title(\"Win Rate versus Occurences\")\n",
    "# Plotting year by life expectancy\n",
    "ax.scatter(data_win_rate[\"occurences\"], data_win_rate[\"win_rate\"])\n",
    "fig.show()"
   ]
  },
  {
   "cell_type": "code",
   "execution_count": null,
   "id": "0ea5b90a-acb2-4063-8746-3c7a291ac16b",
   "metadata": {},
   "outputs": [],
   "source": []
  }
 ],
 "metadata": {
  "kernelspec": {
   "display_name": "Python 3 (ipykernel)",
   "language": "python",
   "name": "python3"
  },
  "language_info": {
   "codemirror_mode": {
    "name": "ipython",
    "version": 3
   },
   "file_extension": ".py",
   "mimetype": "text/x-python",
   "name": "python",
   "nbconvert_exporter": "python",
   "pygments_lexer": "ipython3",
   "version": "3.9.7"
  }
 },
 "nbformat": 4,
 "nbformat_minor": 5
}
