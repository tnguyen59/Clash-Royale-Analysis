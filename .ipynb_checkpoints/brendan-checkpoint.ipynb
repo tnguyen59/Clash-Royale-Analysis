{
 "cells": [
  {
   "cell_type": "markdown",
   "id": "2c2242aa-cce9-4fcf-9f3d-4b504774030e",
   "metadata": {},
   "source": [
    "# Brendan's Notebook\n",
    "## Brainstorm\n",
    "\n",
    "### Winrates of decks based on composition in terms of card types"
   ]
  },
  {
   "cell_type": "code",
   "execution_count": 1,
   "id": "760327c0-19de-4d70-9993-b1b639317068",
   "metadata": {},
   "outputs": [
    {
     "data": {
      "text/plain": [
       "0         None\n",
       "1         None\n",
       "2         None\n",
       "3         None\n",
       "4         None\n",
       "          ... \n",
       "718881    None\n",
       "718882    None\n",
       "718883    None\n",
       "718884    None\n",
       "718885    None\n",
       "Length: 718886, dtype: object"
      ]
     },
     "execution_count": 1,
     "metadata": {},
     "output_type": "execute_result"
    }
   ],
   "source": [
    "import pandas as pd\n",
    "import matplotlib.pyplot as plt\n",
    "import seaborn as sns\n",
    "import numpy as np\n",
    "from collections import defaultdict\n",
    "from collections import Counter\n",
    "\n",
    "data_games = pd.read_csv(\"data_ord.csv\")\n",
    "data_cards = pd.read_csv(\"cardlist.csv\")\n",
    "\n",
    "# Extracting interesting deck data\n",
    "dict_decks_general = {} \n",
    "dict_decks_general = defaultdict(lambda:0,dict_decks_general)\n",
    "dict_decks_winning_only = {} \n",
    "dict_decks_winning_only = defaultdict(lambda:0,dict_decks_winning_only)\n",
    "def get_decks(p1_deck,p2_deck,result):\n",
    "    global dict_decks_general\n",
    "    global dict_decks_winning_only\n",
    "    dict_decks_general[p1_deck] = dict_decks_general[p1_deck] + 1\n",
    "    dict_decks_general[p2_deck] = dict_decks_general[p2_deck] + 1\n",
    "    if(result == 1):\n",
    "        dict_decks_winning_only[p1_deck] = dict_decks_winning_only[p1_deck] + 1\n",
    "    else:\n",
    "        dict_decks_winning_only[p2_deck] = dict_decks_winning_only[p2_deck] + 1\n",
    "        \n",
    "data_games.apply(lambda x: get_decks((x[\"p1card1\"],x[\"p1card2\"],x[\"p1card3\"],x[\"p1card4\"],x[\"p1card5\"],x[\"p1card6\"],x[\"p1card7\"],x[\"p1card8\"]),(x[\"p2card1\"],x[\"p2card2\"],x[\"p2card3\"],x[\"p2card4\"],x[\"p2card5\"],x[\"p2card6\"],x[\"p2card7\"],x[\"p2card8\"]),x[\"outcome\"]), axis=1)"
   ]
  },
  {
   "cell_type": "code",
   "execution_count": 2,
   "id": "7ed909ae-ef09-4fea-b414-277b1d0eca04",
   "metadata": {},
   "outputs": [
    {
     "name": "stdout",
     "output_type": "stream",
     "text": [
      "There are 327658 unique decks used\n",
      "\n",
      "\n",
      "These are the 5 most popular decks\n",
      "[((4, 36, 42, 46, 50, 62, 87, 95), 24027), ((0, 26, 30, 41, 77, 90, 91, 98), 18166), ((6, 34, 35, 37, 63, 92, 99, 102), 16286), ((0, 1, 10, 72, 80, 82, 87, 98), 10385)]\n",
      "\n",
      "\n",
      "There were 232547 decks used only once\n",
      "\n",
      "\n",
      "There are 169313 decks that earned a win\n",
      "\n",
      "\n",
      "These are the 5 decks with the most wins\n",
      "[((4, 36, 42, 46, 50, 62, 87, 95), 12734), ((6, 34, 35, 37, 63, 92, 99, 102), 9002), ((0, 26, 30, 41, 77, 90, 91, 98), 8849), ((0, 1, 10, 72, 80, 82, 87, 98), 5229)]\n"
     ]
    }
   ],
   "source": [
    "# Exploring deck data found\n",
    "most_common_decks = Counter(dict_decks_general).most_common()\n",
    "print(\"There are \"+str(len(most_common_decks)) + \" unique decks used\")\n",
    "print(\"\\n\")\n",
    "print(\"These are the 5 most popular decks\")\n",
    "print(most_common_decks[1:5])\n",
    "print(\"\\n\")\n",
    "number_of_one_off_decks = Counter(dict_decks_general.values()).most_common(1)\n",
    "print(\"There were \" + str(number_of_one_off_decks[0][1]) + \" decks used only once\")\n",
    "print(\"\\n\")\n",
    "most_common_winning_decks = Counter(dict_decks_winning_only).most_common()\n",
    "print(\"There are \"+str(len(most_common_winning_decks)) + \" decks that earned a win\")\n",
    "print(\"\\n\")\n",
    "print(\"These are the 5 decks with the most wins\")\n",
    "print(most_common_winning_decks[1:5])"
   ]
  },
  {
   "cell_type": "code",
   "execution_count": null,
   "id": "ebd01aac-e59d-4557-9520-fee596c9dc39",
   "metadata": {},
   "outputs": [],
   "source": [
    "# Extracting winrates of decks\n",
    "import math\n",
    "dict_win_rate = {}\n",
    "dict_win_rate = defaultdict(lambda:0,dict_win_rate)\n",
    "decks = []\n",
    "win_rates = []\n",
    "occurences = []\n",
    "relative_imp = []\n",
    "comp = []\n",
    "\n",
    "# This function finds the confidence that a score is relevant to our calculations\n",
    "# This is important since decks used once are not as relevant when compared to decks used many times\n",
    "# n = number of times this deck was used, k = number of wins for the deck\n",
    "# Return value -> lower bound of range (how useful the information is basically)\n",
    "\n",
    "def AgrestiCoullLower(n, k):\n",
    "    # 95% confidence interval\n",
    "    kappa = 2.24140273 #kappa = ierfc(conf/2)*sqrt(2)\n",
    "    kest = k+kappa*kappa/2\n",
    "    nest =n+kappa*kappa;\n",
    "    pest=kest/nest;\n",
    "    radius=kappa*math.sqrt(pest*(1-pest)/nest);\n",
    "    return max(0,pest-radius); #Lower bound\n",
    "    #Upper bound is min(1,pest+radius)\n",
    "    \n",
    "def FindComp(card):\n",
    "    dict_comp[data_cards.loc[card].type] = dict_comp[data_cards.loc[card].type]+1    \n",
    "\n",
    "for (deck, count) in most_common_decks:\n",
    "    dict_win_rate[deck] = (dict_decks_winning_only[deck]/count)*100\n",
    "    decks.append(deck)\n",
    "    win_rates.append((dict_decks_winning_only[deck]/count)*100)\n",
    "    occurences.append(count)\n",
    "    relative_imp.append(AgrestiCoullLower(count,dict_decks_winning_only[deck])*100)\n",
    "    combo = 0\n",
    "    for card in deck:\n",
    "        curr_type = data_cards.loc[card].type\n",
    "        if(curr_type == \"unit\"):\n",
    "            combo += 1\n",
    "        elif(curr_type == \"spell\"):\n",
    "            combo += 10\n",
    "        elif(curr_type == \"defense\" or curr_type == \"spawner\" or curr_type == \"siege\" or curr_type == \"building\"):\n",
    "            combo += 100\n",
    "    comp.append(str(combo))\n",
    "    \n",
    "win_rate = Counter(dict_win_rate).most_common()\n",
    "print(win_rate[1:10])\n",
    "\n",
    "# extracting win_rate data as a\n",
    "data_win_rate = pd.DataFrame({\"deck\": decks, \"win_rate\": win_rates, \"occurences\": occurences, \"relative_importance\": relative_imp})\n",
    "data_win_rate[\"relative_importance\"].max()"
   ]
  },
  {
   "cell_type": "code",
   "execution_count": null,
   "id": "c0d12085-e670-4615-bc9f-73489d90ade7",
   "metadata": {},
   "outputs": [],
   "source": [
    "# Extracting win-rate of 500 most popular decks\n",
    "most_common_500 = most_common_decks[1:500]\n",
    "win_rate_common_500 = {} \n",
    "win_rate_common_500 = defaultdict(lambda:0,win_rate_common_500)\n",
    "for (deck, count) in most_common_500:\n",
    "    win_rate_common_500[deck] = dict_win_rate[deck]\n",
    "\n",
    "# Finding the 10 decks with the highest win-rate from this list\n",
    "most_common_win_rate = Counter(win_rate_common_500).most_common()\n",
    "print(most_common_win_rate[1:10])"
   ]
  },
  {
   "cell_type": "code",
   "execution_count": null,
   "id": "01073944-6ed1-42dc-8bab-87030320b7e1",
   "metadata": {},
   "outputs": [],
   "source": [
    "# Extracting win-rate of decks 500 decks with the most wins\n",
    "most_common_winning_500 = most_common_winning_decks[1:500]\n",
    "win_rate_winning_500 = {} \n",
    "win_rate_winning_500 = defaultdict(lambda:0,win_rate_winning_500)\n",
    "for (deck, count) in most_common_winning_500:\n",
    "    win_rate_winning_500[deck] = dict_win_rate[deck]\n",
    "\n",
    "# Finding the 10 decks with the highest win-rate from this list\n",
    "most_winning_win_rate = Counter(win_rate_winning_500).most_common()\n",
    "print(most_winning_win_rate[1:10])"
   ]
  },
  {
   "cell_type": "code",
   "execution_count": null,
   "id": "f549b4f8-bc75-49f5-9b0c-81fcb87aa55c",
   "metadata": {},
   "outputs": [],
   "source": [
    "# Creating plot\n",
    "fig, ax = plt.subplots()\n",
    "# Setting labels\n",
    "ax.set_ylabel(\"Win Rate\")\n",
    "ax.set_xlabel(\"Occurences\")\n",
    "ax.set_title(\"Win Rate versus Occurences\")\n",
    "# Plotting year by life expectancy\n",
    "ax.scatter(data_win_rate[\"occurences\"], data_win_rate[\"win_rate\"])\n",
    "fig.show()"
   ]
  },
  {
   "cell_type": "code",
   "execution_count": null,
   "id": "0ea5b90a-acb2-4063-8746-3c7a291ac16b",
   "metadata": {},
   "outputs": [],
   "source": [
    "fig, ax = plt.subplots()\n",
    "# Setting labels\n",
    "ax.set_ylabel(\"Win Rate\")\n",
    "ax.set_xlabel(\"Relative Importance\")\n",
    "ax.set_title(\"Win Rate versus Relative Importance\")\n",
    "# Plotting year by life expectancy\n",
    "ax.scatter(data_win_rate[\"relative_importance\"], data_win_rate[\"win_rate\"])\n",
    "fig.show()"
   ]
  },
  {
   "cell_type": "code",
   "execution_count": null,
   "id": "4c4a0e91-d0ed-4179-a002-4c7a7210b153",
   "metadata": {},
   "outputs": [],
   "source": [
    "# Finding 5 most relevant decks in the meta\n",
    "data_win_rate[\"composition\"] = comp\n",
    "data_win_rate[\"composition\"] = data_win_rate[\"composition\"].apply(lambda x: x.zfill(3))\n",
    "data_win_rate[\"overall_rank\"]= data_win_rate[['win_rate', 'relative_importance']].sum(1)\n",
    "data_win_rate.sort_values(by=['overall_rank'], ascending=False).head(10)"
   ]
  },
  {
   "cell_type": "code",
   "execution_count": null,
   "id": "a88691dd-8940-40a6-b35e-2a25844a5f88",
   "metadata": {},
   "outputs": [],
   "source": [
    "# Ignoring decks played under 100 times\n",
    "data_win_rate[data_win_rate[\"occurences\"] > 100].sort_values(by=['overall_rank'], ascending=False).head(10)"
   ]
  },
  {
   "cell_type": "code",
   "execution_count": null,
   "id": "f417dd40-cefb-42b1-a925-7be884446ec3",
   "metadata": {},
   "outputs": [],
   "source": [
    "# Ignoring decks played under 1000 times\n",
    "data_win_rate[data_win_rate[\"occurences\"] > 1000].sort_values(by=['overall_rank'], ascending=False).head(10)"
   ]
  },
  {
   "cell_type": "markdown",
   "id": "0286d867-c34e-44be-9c16-d2302ef8424c",
   "metadata": {},
   "source": [
    "### Look at optimal deck composition based on types of cards"
   ]
  },
  {
   "cell_type": "code",
   "execution_count": null,
   "id": "9fad9f42-527a-46c3-a862-4c6769e81fd3",
   "metadata": {},
   "outputs": [],
   "source": [
    "# Constructing Violin Plot\n",
    "fig, ax = plt.subplots(figsize=(30,10))\n",
    "# getting year data\n",
    "compos = data_win_rate[\"composition\"].unique()\n",
    "temp_comp = list(range(0, len(compos)))\n",
    "# getting all data for each year\n",
    "win_rate_per_comp = []\n",
    "data_win_rate.groupby(\"composition\").apply(lambda x: win_rate_per_comp.append(x[\"win_rate\"]))\n",
    "# constructing plot\n",
    "ax.violinplot(win_rate_per_comp,temp_comp,widths=1,showmeans=True)\n",
    "# setting labels and title\n",
    "ax.set_xlabel(\"Composition\")\n",
    "ax.set_ylabel(\"Win Rate\")\n",
    "ax.set_title(\"Composition vs. Win Rate\")\n",
    "ax.set_xticks(temp_comp)\n",
    "ax.set_xticklabels(compos)\n",
    "fig.show()"
   ]
  },
  {
   "cell_type": "code",
   "execution_count": null,
   "id": "aef0c03e-ec80-49b9-963c-4966e5bcb8b2",
   "metadata": {},
   "outputs": [],
   "source": [
    "from sklearn.model_selection import train_test_split\n",
    "from sklearn.linear_model import LinearRegression\n",
    "win_rate = np.array(data_win_rate['win_rate'])\n",
    "comp = np.array(data_win_rate[\"composition\"]).reshape(-1, 1)\n",
    "\n",
    "# Creating linear regression\n",
    "regr = LinearRegression()\n",
    "regr.fit(comp,win_rate)\n",
    "\n",
    "# Printing out relevant information\n",
    "print(\"Intercept:\", regr.intercept_)\n",
    "print(\"Coefficient:\", regr.coef_[0])"
   ]
  },
  {
   "cell_type": "code",
   "execution_count": null,
   "id": "4d52c6dc-c6dd-442e-9be2-35b92531eb1e",
   "metadata": {},
   "outputs": [],
   "source": []
  }
 ],
 "metadata": {
  "kernelspec": {
   "display_name": "Python 3 (ipykernel)",
   "language": "python",
   "name": "python3"
  },
  "language_info": {
   "codemirror_mode": {
    "name": "ipython",
    "version": 3
   },
   "file_extension": ".py",
   "mimetype": "text/x-python",
   "name": "python",
   "nbconvert_exporter": "python",
   "pygments_lexer": "ipython3",
   "version": "3.9.7"
  }
 },
 "nbformat": 4,
 "nbformat_minor": 5
}
