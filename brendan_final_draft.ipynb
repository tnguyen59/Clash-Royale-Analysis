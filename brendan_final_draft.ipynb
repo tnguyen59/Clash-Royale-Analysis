{
 "cells": [
  {
   "cell_type": "markdown",
   "id": "0c3efdf0-206c-4fd7-9bae-22711d45aae8",
   "metadata": {},
   "source": [
    "# Final Project Title\n",
    "## Brendan, Nathan, Yash, Rennie\n",
    "\n",
    "## Introduction\n",
    "Clash royale is a tower defense strategy game in which players create a deck of 8 cards and battle each other to destroy each other’s towers. The cards are characters within the game that can either defend against enemy cards or attack the enemy. Cards cost elixir to be played which is generated continuously throughout the game. The cards fall into three different type categories, units, spells, and buildings. The type of the card describes its behavior within the game. The cards are also split into different “rarities”, common, rare, epic, legendary, and champion. Many players have the belief that higher rarity cards will aid players in winning more games, making the game “pay to win”. \n",
    "\n",
    "In this analysis, we aim to find the most optimal deck(s) based on various factors. These factors include rarity, occurrence, type, cost, and winrate of a card and of a deck. We also will determine if higher rarity cards actually do lead to higher win rate, making the game “pay to win.” \n",
    "\n",
    "\n",
    "## Data Collection/Curation\n",
    "### Obtaining the Dataset\n",
    "This dataset is a publicly available dataset obtained from [Kaggle](https://www.kaggle.com/datasets/nonrice/clash-royale-battles-upper-ladder-december-2021?resource=download). This dataset consists of two csv files, data_ord.csv and cardlist.csv. The data_ord.csv file contains information from roughly 750000 matches including the decks both players used, their respective ranks within the game, and who won. The cardlist.csv file contains a list of all the cards present in the game for the release of the game tied to this data. The card list only included the name of the card along with an id.\n",
    "\n",
    "### Adding Relevant Information to the Dataset\n",
    "- In the data_ord.csv, we updated the outcome of the match to correspond with the player number, either 1 or 2. \n",
    "- Significant changes were made to the cardlist.csv file. We added columns indicating elixir cost, rarity, type, whether a unit is flying, the targets of a card, and whether a card spawns other units.\n",
    "\n",
    "## Data management/representation\n",
    "We loaded both datasets into [Pandas](https://pandas.pydata.org/) dataframes to ensure easy data access. We had data_card_list load in cardlist.csv and data_games load in data_ord.csv. Plots were done using [Matplotlib](https://matplotlib.org/) and [seaborn](https://seaborn.pydata.org/)."
   ]
  },
  {
   "cell_type": "code",
   "execution_count": 1,
   "id": "a3eccd92-723d-43e5-b5e0-447c977301f2",
   "metadata": {},
   "outputs": [],
   "source": [
    "# Imports\n",
    "import pandas as pd\n",
    "import matplotlib.pyplot as plt\n",
    "import seaborn as sns\n",
    "import numpy as np\n",
    "from collections import defaultdict\n",
    "from collections import Counter\n",
    "import math\n",
    "from scipy.stats import pearsonr\n",
    "from scipy.stats import spearmanr"
   ]
  },
  {
   "cell_type": "code",
   "execution_count": 2,
   "id": "413bfd02-9cfb-4f46-8b1f-32508afb0f32",
   "metadata": {},
   "outputs": [],
   "source": [
    "data_games = pd.read_csv(\"data_ord.csv\")\n",
    "data_card_list = pd.read_csv(\"cardlist.csv\")"
   ]
  },
  {
   "cell_type": "markdown",
   "id": "1477f86d",
   "metadata": {},
   "source": [
    "### Finding Each Card\n",
    "\n",
    "Within the cardlist.csv, there are 112 unique cards present in the data.\n",
    "\n",
    "For each card, we want to find the number of occurrences. To do this, we analyzed the data_card_list dataframe and determined the number of wins and occurrences of each card. It was found that there are 106 used cards of the 112 cards in cardlist.csv. From that information, we were able to determine the winrate of each card and then got the corresponding name, cost, type, and rarity from the data_card_list dataframe."
   ]
  },
  {
   "cell_type": "code",
   "execution_count": 3,
   "id": "f1c10ac2",
   "metadata": {},
   "outputs": [
    {
     "data": {
      "text/html": [
       "<div>\n",
       "<style scoped>\n",
       "    .dataframe tbody tr th:only-of-type {\n",
       "        vertical-align: middle;\n",
       "    }\n",
       "\n",
       "    .dataframe tbody tr th {\n",
       "        vertical-align: top;\n",
       "    }\n",
       "\n",
       "    .dataframe thead th {\n",
       "        text-align: right;\n",
       "    }\n",
       "</style>\n",
       "<table border=\"1\" class=\"dataframe\">\n",
       "  <thead>\n",
       "    <tr style=\"text-align: right;\">\n",
       "      <th></th>\n",
       "      <th>index</th>\n",
       "      <th>0</th>\n",
       "    </tr>\n",
       "  </thead>\n",
       "  <tbody>\n",
       "    <tr>\n",
       "      <th>0</th>\n",
       "      <td>8</td>\n",
       "      <td>45795</td>\n",
       "    </tr>\n",
       "    <tr>\n",
       "      <th>1</th>\n",
       "      <td>34</td>\n",
       "      <td>66651</td>\n",
       "    </tr>\n",
       "    <tr>\n",
       "      <th>2</th>\n",
       "      <td>37</td>\n",
       "      <td>215819</td>\n",
       "    </tr>\n",
       "    <tr>\n",
       "      <th>3</th>\n",
       "      <td>52</td>\n",
       "      <td>45047</td>\n",
       "    </tr>\n",
       "    <tr>\n",
       "      <th>4</th>\n",
       "      <td>69</td>\n",
       "      <td>62900</td>\n",
       "    </tr>\n",
       "    <tr>\n",
       "      <th>...</th>\n",
       "      <td>...</td>\n",
       "      <td>...</td>\n",
       "    </tr>\n",
       "    <tr>\n",
       "      <th>101</th>\n",
       "      <td>79</td>\n",
       "      <td>5542</td>\n",
       "    </tr>\n",
       "    <tr>\n",
       "      <th>102</th>\n",
       "      <td>24</td>\n",
       "      <td>53761</td>\n",
       "    </tr>\n",
       "    <tr>\n",
       "      <th>103</th>\n",
       "      <td>61</td>\n",
       "      <td>37426</td>\n",
       "    </tr>\n",
       "    <tr>\n",
       "      <th>104</th>\n",
       "      <td>100</td>\n",
       "      <td>23811</td>\n",
       "    </tr>\n",
       "    <tr>\n",
       "      <th>105</th>\n",
       "      <td>67</td>\n",
       "      <td>13071</td>\n",
       "    </tr>\n",
       "  </tbody>\n",
       "</table>\n",
       "<p>106 rows × 2 columns</p>\n",
       "</div>"
      ],
      "text/plain": [
       "     index       0\n",
       "0        8   45795\n",
       "1       34   66651\n",
       "2       37  215819\n",
       "3       52   45047\n",
       "4       69   62900\n",
       "..     ...     ...\n",
       "101     79    5542\n",
       "102     24   53761\n",
       "103     61   37426\n",
       "104    100   23811\n",
       "105     67   13071\n",
       "\n",
       "[106 rows x 2 columns]"
      ]
     },
     "execution_count": 3,
     "metadata": {},
     "output_type": "execute_result"
    }
   ],
   "source": [
    "# Card Section\n",
    "\n",
    "cards_winning = {}\n",
    "cards_winning = defaultdict(lambda:0, cards_winning)\n",
    "cards_general = {}\n",
    "cards_general = defaultdict(lambda: 0, cards_general)\n",
    "most_common = 0 \n",
    "maximum = 0 \n",
    "\n",
    "def get_card_occurence(cards_used, outcome): \n",
    "    global card_general\n",
    "    global cards_winning\n",
    "    i = 0 \n",
    "    for card in cards_used:\n",
    "        cards_general[card] = cards_general[card] + 1\n",
    "        if outcome == 1 and i < 8:\n",
    "            cards_winning[card] = cards_winning[card] + 1\n",
    "        elif outcome == 2 and i >= 8: \n",
    "            cards_winning[card] = cards_winning[card] + 1\n",
    "        i = i+1\n",
    "    \n",
    "lst = []\n",
    "data_games.apply(lambda x: get_card_occurence([x[\"p1card1\"],x[\"p1card2\"],x[\"p1card3\"],x[\"p1card4\"],x[\"p1card5\"],x[\"p1card6\"],x[\"p1card7\"],x[\"p1card8\"],x[\"p2card1\"],x[\"p2card2\"],x[\"p2card3\"],x[\"p2card4\"],x[\"p2card5\"],x[\"p2card6\"],x[\"p2card7\"],x[\"p2card8\"]],x[\"outcome\"]), axis=1)\n",
    "\n",
    "data_cards = pd.DataFrame.from_dict([cards_general]).transpose().reset_index()\n",
    "data_cards"
   ]
  },
  {
   "cell_type": "markdown",
   "id": "0e83a6d1-d573-41bf-a7ba-8d48933167e2",
   "metadata": {},
   "source": [
    "#### Gathering Important Card Data\n"
   ]
  },
  {
   "cell_type": "code",
   "execution_count": 47,
   "id": "f994cdb8",
   "metadata": {},
   "outputs": [
    {
     "data": {
      "text/html": [
       "<div>\n",
       "<style scoped>\n",
       "    .dataframe tbody tr th:only-of-type {\n",
       "        vertical-align: middle;\n",
       "    }\n",
       "\n",
       "    .dataframe tbody tr th {\n",
       "        vertical-align: top;\n",
       "    }\n",
       "\n",
       "    .dataframe thead th {\n",
       "        text-align: right;\n",
       "    }\n",
       "</style>\n",
       "<table border=\"1\" class=\"dataframe\">\n",
       "  <thead>\n",
       "    <tr style=\"text-align: right;\">\n",
       "      <th></th>\n",
       "      <th>card</th>\n",
       "      <th>wins</th>\n",
       "      <th>occurrences</th>\n",
       "      <th>winrate</th>\n",
       "      <th>card_name</th>\n",
       "      <th>cost</th>\n",
       "      <th>rarity</th>\n",
       "      <th>type</th>\n",
       "    </tr>\n",
       "  </thead>\n",
       "  <tbody>\n",
       "    <tr>\n",
       "      <th>54</th>\n",
       "      <td>54</td>\n",
       "      <td>32352</td>\n",
       "      <td>61037</td>\n",
       "      <td>0.530039</td>\n",
       "      <td>Cannon Cart</td>\n",
       "      <td>5.0</td>\n",
       "      <td>epic</td>\n",
       "      <td>unit</td>\n",
       "    </tr>\n",
       "    <tr>\n",
       "      <th>98</th>\n",
       "      <td>70</td>\n",
       "      <td>22406</td>\n",
       "      <td>42334</td>\n",
       "      <td>0.529267</td>\n",
       "      <td>Skeleton Dragons</td>\n",
       "      <td>4.0</td>\n",
       "      <td>common</td>\n",
       "      <td>unit</td>\n",
       "    </tr>\n",
       "    <tr>\n",
       "      <th>1</th>\n",
       "      <td>34</td>\n",
       "      <td>35229</td>\n",
       "      <td>66651</td>\n",
       "      <td>0.528559</td>\n",
       "      <td>Bowler</td>\n",
       "      <td>5.0</td>\n",
       "      <td>epic</td>\n",
       "      <td>unit</td>\n",
       "    </tr>\n",
       "    <tr>\n",
       "      <th>21</th>\n",
       "      <td>102</td>\n",
       "      <td>131432</td>\n",
       "      <td>249380</td>\n",
       "      <td>0.527035</td>\n",
       "      <td>Barbarian Barrel</td>\n",
       "      <td>2.0</td>\n",
       "      <td>epic</td>\n",
       "      <td>spell</td>\n",
       "    </tr>\n",
       "    <tr>\n",
       "      <th>84</th>\n",
       "      <td>29</td>\n",
       "      <td>39698</td>\n",
       "      <td>75386</td>\n",
       "      <td>0.526596</td>\n",
       "      <td>Lava Hound</td>\n",
       "      <td>7.0</td>\n",
       "      <td>legendary</td>\n",
       "      <td>unit</td>\n",
       "    </tr>\n",
       "    <tr>\n",
       "      <th>...</th>\n",
       "      <td>...</td>\n",
       "      <td>...</td>\n",
       "      <td>...</td>\n",
       "      <td>...</td>\n",
       "      <td>...</td>\n",
       "      <td>...</td>\n",
       "      <td>...</td>\n",
       "      <td>...</td>\n",
       "    </tr>\n",
       "    <tr>\n",
       "      <th>86</th>\n",
       "      <td>20</td>\n",
       "      <td>13481</td>\n",
       "      <td>28556</td>\n",
       "      <td>0.472090</td>\n",
       "      <td>Giant Skeleton</td>\n",
       "      <td>6.0</td>\n",
       "      <td>epic</td>\n",
       "      <td>unit</td>\n",
       "    </tr>\n",
       "    <tr>\n",
       "      <th>63</th>\n",
       "      <td>64</td>\n",
       "      <td>55273</td>\n",
       "      <td>117924</td>\n",
       "      <td>0.468717</td>\n",
       "      <td>Firecracker</td>\n",
       "      <td>3.0</td>\n",
       "      <td>common</td>\n",
       "      <td>unit</td>\n",
       "    </tr>\n",
       "    <tr>\n",
       "      <th>85</th>\n",
       "      <td>7</td>\n",
       "      <td>39768</td>\n",
       "      <td>86820</td>\n",
       "      <td>0.458051</td>\n",
       "      <td>Witch</td>\n",
       "      <td>5.0</td>\n",
       "      <td>epic</td>\n",
       "      <td>unit</td>\n",
       "    </tr>\n",
       "    <tr>\n",
       "      <th>66</th>\n",
       "      <td>17</td>\n",
       "      <td>45181</td>\n",
       "      <td>104706</td>\n",
       "      <td>0.431503</td>\n",
       "      <td>Wizard</td>\n",
       "      <td>5.0</td>\n",
       "      <td>rare</td>\n",
       "      <td>unit</td>\n",
       "    </tr>\n",
       "    <tr>\n",
       "      <th>61</th>\n",
       "      <td>93</td>\n",
       "      <td>14196</td>\n",
       "      <td>33035</td>\n",
       "      <td>0.429726</td>\n",
       "      <td>Mirror</td>\n",
       "      <td>0.0</td>\n",
       "      <td>epic</td>\n",
       "      <td>spell</td>\n",
       "    </tr>\n",
       "  </tbody>\n",
       "</table>\n",
       "<p>106 rows × 8 columns</p>\n",
       "</div>"
      ],
      "text/plain": [
       "    card    wins  occurrences   winrate         card_name  cost     rarity  \\\n",
       "54    54   32352        61037  0.530039       Cannon Cart   5.0       epic   \n",
       "98    70   22406        42334  0.529267  Skeleton Dragons   4.0     common   \n",
       "1     34   35229        66651  0.528559            Bowler   5.0       epic   \n",
       "21   102  131432       249380  0.527035  Barbarian Barrel   2.0       epic   \n",
       "84    29   39698        75386  0.526596        Lava Hound   7.0  legendary   \n",
       "..   ...     ...          ...       ...               ...   ...        ...   \n",
       "86    20   13481        28556  0.472090    Giant Skeleton   6.0       epic   \n",
       "63    64   55273       117924  0.468717       Firecracker   3.0     common   \n",
       "85     7   39768        86820  0.458051             Witch   5.0       epic   \n",
       "66    17   45181       104706  0.431503            Wizard   5.0       rare   \n",
       "61    93   14196        33035  0.429726            Mirror   0.0       epic   \n",
       "\n",
       "     type  \n",
       "54   unit  \n",
       "98   unit  \n",
       "1    unit  \n",
       "21  spell  \n",
       "84   unit  \n",
       "..    ...  \n",
       "86   unit  \n",
       "63   unit  \n",
       "85   unit  \n",
       "66   unit  \n",
       "61  spell  \n",
       "\n",
       "[106 rows x 8 columns]"
      ]
     },
     "execution_count": 47,
     "metadata": {},
     "output_type": "execute_result"
    }
   ],
   "source": [
    "temp_df = data_cards\n",
    "temp_df.rename(columns={0: 'occurrences', 'index': 'card'}, inplace=True)\n",
    "\n",
    "wins_df = pd.DataFrame.from_dict([cards_winning]).transpose().reset_index()\n",
    "wins_df.rename(columns={0: 'wins', 'index': 'card'}, inplace=True)\n",
    "# wins_df.sort_values(by=['wins'], inplace=True, ascending=False)\n",
    "\n",
    "temp_df.sort_values(by=['occurrences'], inplace=True, ascending=False)\n",
    "\n",
    "wins_df = wins_df.merge(right=temp_df)\n",
    "wins_df.sort_values(by=['wins'], inplace=True, ascending=False)\n",
    "\n",
    "winrate_df = wins_df\n",
    "\n",
    "for index, row in winrate_df.iterrows():    \n",
    "    winrate_df.at[index, 'winrate'] = row['wins'] / row['occurrences']\n",
    "\n",
    "winrate_df.sort_values(by=['winrate'], inplace=True, ascending=False)\n",
    "winrate_df\n",
    "\n",
    "card_df = winrate_df\n",
    "\n",
    "# print(data_card_list.at[17, 'card'])\n",
    "\n",
    "for index, row in card_df.iterrows():\n",
    "    # print(row['card'])\n",
    "    tup = (data_card_list.at[row['card'], 'card'], data_card_list.at[row['card'], 'cost'], data_card_list.at[row['card'], 'rarity'], data_card_list.at[row['card'], 'type'])\n",
    "    # print(tup)\n",
    "    card_df.at[index, 'card_name'] = tup[0]\n",
    "    card_df.at[index, 'cost'] = tup[1]\n",
    "    card_df.at[index, 'rarity'] = tup[2]\n",
    "    card_df.at[index, 'type'] = tup[3]\n",
    "\n",
    "card_df"
   ]
  },
  {
   "cell_type": "markdown",
   "id": "06e75978-016f-42d8-8635-472b9e5c8316",
   "metadata": {},
   "source": [
    "### Finding Each Deck\n",
    "We find each unique deck that was used. There are a projected 278,818,865,325 possible decks, but for 750,000 games, there are roughly 1,500,000 possible unique decks. The data_games dataframe was analyzed to determine each deck used in a game, count the occurrences of the deck, and find the average trophy amount for each deck."
   ]
  },
  {
   "cell_type": "code",
   "execution_count": 82,
   "id": "34af9901-39d7-49c2-9313-34d3ffc67c3f",
   "metadata": {},
   "outputs": [
    {
     "data": {
      "text/html": [
       "<div>\n",
       "<style scoped>\n",
       "    .dataframe tbody tr th:only-of-type {\n",
       "        vertical-align: middle;\n",
       "    }\n",
       "\n",
       "    .dataframe tbody tr th {\n",
       "        vertical-align: top;\n",
       "    }\n",
       "\n",
       "    .dataframe thead th {\n",
       "        text-align: right;\n",
       "    }\n",
       "</style>\n",
       "<table border=\"1\" class=\"dataframe\">\n",
       "  <thead>\n",
       "    <tr style=\"text-align: right;\">\n",
       "      <th></th>\n",
       "      <th>Deck</th>\n",
       "      <th>Occurrences</th>\n",
       "      <th>Wins</th>\n",
       "      <th>Trophies</th>\n",
       "    </tr>\n",
       "  </thead>\n",
       "  <tbody>\n",
       "    <tr>\n",
       "      <th>0</th>\n",
       "      <td>(8, 34, 37, 52, 69, 88, 92, 97)</td>\n",
       "      <td>30</td>\n",
       "      <td>17</td>\n",
       "      <td>6963.566667</td>\n",
       "    </tr>\n",
       "    <tr>\n",
       "      <th>1</th>\n",
       "      <td>(11, 12, 13, 58, 77, 86, 87, 98)</td>\n",
       "      <td>22</td>\n",
       "      <td>9</td>\n",
       "      <td>7339.909091</td>\n",
       "    </tr>\n",
       "    <tr>\n",
       "      <th>2</th>\n",
       "      <td>(11, 37, 53, 83, 88, 92, 97, 102)</td>\n",
       "      <td>183</td>\n",
       "      <td>83</td>\n",
       "      <td>6996.245902</td>\n",
       "    </tr>\n",
       "    <tr>\n",
       "      <th>3</th>\n",
       "      <td>(19, 22, 25, 32, 54, 76, 87, 98)</td>\n",
       "      <td>1778</td>\n",
       "      <td>959</td>\n",
       "      <td>6912.115861</td>\n",
       "    </tr>\n",
       "    <tr>\n",
       "      <th>4</th>\n",
       "      <td>(28, 38, 43, 46, 50, 81, 102, 103)</td>\n",
       "      <td>1910</td>\n",
       "      <td>1064</td>\n",
       "      <td>6769.385864</td>\n",
       "    </tr>\n",
       "    <tr>\n",
       "      <th>...</th>\n",
       "      <td>...</td>\n",
       "      <td>...</td>\n",
       "      <td>...</td>\n",
       "      <td>...</td>\n",
       "    </tr>\n",
       "    <tr>\n",
       "      <th>327653</th>\n",
       "      <td>(7, 15, 17, 21, 43, 81, 87, 89)</td>\n",
       "      <td>1</td>\n",
       "      <td>1</td>\n",
       "      <td>5577.000000</td>\n",
       "    </tr>\n",
       "    <tr>\n",
       "      <th>327654</th>\n",
       "      <td>(13, 35, 39, 43, 48, 73, 95, 99)</td>\n",
       "      <td>1</td>\n",
       "      <td>1</td>\n",
       "      <td>6087.000000</td>\n",
       "    </tr>\n",
       "    <tr>\n",
       "      <th>327655</th>\n",
       "      <td>(11, 17, 18, 24, 51, 77, 95, 102)</td>\n",
       "      <td>1</td>\n",
       "      <td>1</td>\n",
       "      <td>5838.000000</td>\n",
       "    </tr>\n",
       "    <tr>\n",
       "      <th>327656</th>\n",
       "      <td>(4, 7, 11, 21, 64, 77, 88, 92)</td>\n",
       "      <td>1</td>\n",
       "      <td>0</td>\n",
       "      <td>5858.000000</td>\n",
       "    </tr>\n",
       "    <tr>\n",
       "      <th>327657</th>\n",
       "      <td>(7, 11, 17, 35, 59, 77, 82, 88)</td>\n",
       "      <td>1</td>\n",
       "      <td>1</td>\n",
       "      <td>5283.000000</td>\n",
       "    </tr>\n",
       "  </tbody>\n",
       "</table>\n",
       "<p>327658 rows × 4 columns</p>\n",
       "</div>"
      ],
      "text/plain": [
       "                                      Deck  Occurrences  Wins     Trophies\n",
       "0          (8, 34, 37, 52, 69, 88, 92, 97)           30    17  6963.566667\n",
       "1         (11, 12, 13, 58, 77, 86, 87, 98)           22     9  7339.909091\n",
       "2        (11, 37, 53, 83, 88, 92, 97, 102)          183    83  6996.245902\n",
       "3         (19, 22, 25, 32, 54, 76, 87, 98)         1778   959  6912.115861\n",
       "4       (28, 38, 43, 46, 50, 81, 102, 103)         1910  1064  6769.385864\n",
       "...                                    ...          ...   ...          ...\n",
       "327653     (7, 15, 17, 21, 43, 81, 87, 89)            1     1  5577.000000\n",
       "327654    (13, 35, 39, 43, 48, 73, 95, 99)            1     1  6087.000000\n",
       "327655   (11, 17, 18, 24, 51, 77, 95, 102)            1     1  5838.000000\n",
       "327656      (4, 7, 11, 21, 64, 77, 88, 92)            1     0  5858.000000\n",
       "327657     (7, 11, 17, 35, 59, 77, 82, 88)            1     1  5283.000000\n",
       "\n",
       "[327658 rows x 4 columns]"
      ]
     },
     "execution_count": 82,
     "metadata": {},
     "output_type": "execute_result"
    }
   ],
   "source": [
    "# Deck Section\n",
    "# Extracting interesting deck data\n",
    "dict_decks_general = {} # All decks and how many times they were found\n",
    "dict_decks_general = defaultdict(lambda:0,dict_decks_general) # zero filled dictionary\n",
    "dict_decks_winning_only = {} # All decks that won a game, and how many times they won\n",
    "dict_decks_winning_only = defaultdict(lambda:0,dict_decks_winning_only) # zero filled dictionary\n",
    "\n",
    "dict_decks_trophies = {}\n",
    "dict_decks_trophies = defaultdict(lambda:0,dict_decks_trophies) # zero filled dictionary\n",
    "\n",
    "\n",
    "# function to obtain deck info\n",
    "# Takes in the player 1 and player 2 decks and the outcome of the match\n",
    "def get_decks(p1_deck,p2_deck,p1_trophies,p2_trophies,result):\n",
    "    global dict_decks_general\n",
    "    global dict_decks_winning_only\n",
    "    global dict_decks_trophies\n",
    "    dict_decks_general[p1_deck] = dict_decks_general[p1_deck] + 1 # add 1 to player 1's deck occurrences\n",
    "    dict_decks_general[p2_deck] = dict_decks_general[p2_deck] + 1 # add 1 to player 2's deck occurrences\n",
    "    dict_decks_trophies[p1_deck] = dict_decks_trophies[p1_deck] + p1_trophies\n",
    "    dict_decks_trophies[p2_deck] = dict_decks_trophies[p2_deck] + p2_trophies\n",
    "    if(result == 1):\n",
    "        dict_decks_winning_only[p1_deck] = dict_decks_winning_only[p1_deck] + 1 # if player 1 wins add 1 to player 1's deck occurrences for winning decks\n",
    "    else:\n",
    "        dict_decks_winning_only[p2_deck] = dict_decks_winning_only[p2_deck] + 1 # if player 2 wins add 1 to player 2's deck occurrences for winning decks\n",
    "\n",
    "# apply function to data_frame containing games\n",
    "data_games.apply(lambda x: get_decks((x[\"p1card1\"],x[\"p1card2\"],x[\"p1card3\"],x[\"p1card4\"],x[\"p1card5\"],x[\"p1card6\"],x[\"p1card7\"],x[\"p1card8\"]),(x[\"p2card1\"],x[\"p2card2\"],x[\"p2card3\"],x[\"p2card4\"],x[\"p2card5\"],x[\"p2card6\"],x[\"p2card7\"],x[\"p2card8\"]),x[\"p1trophies\"],x[\"p2trophies\"],x[\"outcome\"]), axis=1)\n",
    "\n",
    "# create new dataframe containing information found\n",
    "# has the columns 'Deck', 'Occurrences', and 'Wins'\n",
    "data_decks = pd.DataFrame.from_dict([dict_decks_general]).transpose().reset_index().rename(columns={\"index\": \"Deck\", 0: \"Occurrences\"})\n",
    "data_decks['Wins'] = data_decks['Deck'].apply(lambda x: dict_decks_winning_only[x])\n",
    "data_decks['Trophies'] = dict_decks_trophies.values()\n",
    "data_decks['Trophies'] = data_decks['Trophies']/data_decks['Occurrences']\n",
    "data_decks"
   ]
  },
  {
   "cell_type": "markdown",
   "id": "c9db1c9a-22fc-44d3-950e-375e5827ab93",
   "metadata": {},
   "source": [
    "Looking at the number of decks found reveals to us that people tend to use similar decks. There were roughly 300,000 unique decks used throughout the 750,000 matches. One reason for this is that certain decks might just be more competitively viable than others. Players are more likely to use a deck that will allow them to win.\n",
    "\n",
    "### Gathering Important Data About Decks\n",
    "Here we will obtain important statistics about each deck used. This includes things like the deck composition, rarity, average elixir cost, and Win Rate. Composition is stored as a string of 3 numbers. The character at index 0 corresponds to the number of buildings in the deck, at index 1 the number of spells, and at index 2 the number of units. Rarity is stored as a string of 5 numbers. The character at index 0 corresponds to the number of champions in the deck (which can at most be 1), at index 1 the number of legendaries, and at index 2 the number of epics, at index 3 the number of rares, and at index 4 the number of commons."
   ]
  },
  {
   "cell_type": "code",
   "execution_count": 6,
   "id": "55eec348-cc56-4da1-ad42-9755868aa0f1",
   "metadata": {
    "tags": []
   },
   "outputs": [
    {
     "data": {
      "text/html": [
       "<div>\n",
       "<style scoped>\n",
       "    .dataframe tbody tr th:only-of-type {\n",
       "        vertical-align: middle;\n",
       "    }\n",
       "\n",
       "    .dataframe tbody tr th {\n",
       "        vertical-align: top;\n",
       "    }\n",
       "\n",
       "    .dataframe thead th {\n",
       "        text-align: right;\n",
       "    }\n",
       "</style>\n",
       "<table border=\"1\" class=\"dataframe\">\n",
       "  <thead>\n",
       "    <tr style=\"text-align: right;\">\n",
       "      <th></th>\n",
       "      <th>Deck</th>\n",
       "      <th>Occurrences</th>\n",
       "      <th>Wins</th>\n",
       "      <th>Trophies</th>\n",
       "      <th>Rarity</th>\n",
       "      <th>Composition</th>\n",
       "      <th>Costs</th>\n",
       "      <th>Win Rate</th>\n",
       "    </tr>\n",
       "  </thead>\n",
       "  <tbody>\n",
       "    <tr>\n",
       "      <th>0</th>\n",
       "      <td>(8, 34, 37, 52, 69, 88, 92, 97)</td>\n",
       "      <td>30</td>\n",
       "      <td>17</td>\n",
       "      <td>6963.566667</td>\n",
       "      <td>12212</td>\n",
       "      <td>035</td>\n",
       "      <td>4.25</td>\n",
       "      <td>0.566667</td>\n",
       "    </tr>\n",
       "    <tr>\n",
       "      <th>1</th>\n",
       "      <td>(11, 12, 13, 58, 77, 86, 87, 98)</td>\n",
       "      <td>22</td>\n",
       "      <td>9</td>\n",
       "      <td>7339.909091</td>\n",
       "      <td>01331</td>\n",
       "      <td>224</td>\n",
       "      <td>3.25</td>\n",
       "      <td>0.409091</td>\n",
       "    </tr>\n",
       "    <tr>\n",
       "      <th>2</th>\n",
       "      <td>(11, 37, 53, 83, 88, 92, 97, 102)</td>\n",
       "      <td>183</td>\n",
       "      <td>83</td>\n",
       "      <td>6996.245902</td>\n",
       "      <td>02213</td>\n",
       "      <td>143</td>\n",
       "      <td>3.75</td>\n",
       "      <td>0.453552</td>\n",
       "    </tr>\n",
       "    <tr>\n",
       "      <th>3</th>\n",
       "      <td>(19, 22, 25, 32, 54, 76, 87, 98)</td>\n",
       "      <td>1778</td>\n",
       "      <td>959</td>\n",
       "      <td>6912.115861</td>\n",
       "      <td>02213</td>\n",
       "      <td>125</td>\n",
       "      <td>3.50</td>\n",
       "      <td>0.539370</td>\n",
       "    </tr>\n",
       "    <tr>\n",
       "      <th>4</th>\n",
       "      <td>(28, 38, 43, 46, 50, 81, 102, 103)</td>\n",
       "      <td>1910</td>\n",
       "      <td>1064</td>\n",
       "      <td>6769.385864</td>\n",
       "      <td>02141</td>\n",
       "      <td>116</td>\n",
       "      <td>4.00</td>\n",
       "      <td>0.557068</td>\n",
       "    </tr>\n",
       "  </tbody>\n",
       "</table>\n",
       "</div>"
      ],
      "text/plain": [
       "                                 Deck  Occurrences  Wins     Trophies Rarity  \\\n",
       "0     (8, 34, 37, 52, 69, 88, 92, 97)           30    17  6963.566667  12212   \n",
       "1    (11, 12, 13, 58, 77, 86, 87, 98)           22     9  7339.909091  01331   \n",
       "2   (11, 37, 53, 83, 88, 92, 97, 102)          183    83  6996.245902  02213   \n",
       "3    (19, 22, 25, 32, 54, 76, 87, 98)         1778   959  6912.115861  02213   \n",
       "4  (28, 38, 43, 46, 50, 81, 102, 103)         1910  1064  6769.385864  02141   \n",
       "\n",
       "  Composition  Costs  Win Rate  \n",
       "0         035   4.25  0.566667  \n",
       "1         224   3.25  0.409091  \n",
       "2         143   3.75  0.453552  \n",
       "3         125   3.50  0.539370  \n",
       "4         116   4.00  0.557068  "
      ]
     },
     "execution_count": 6,
     "metadata": {},
     "output_type": "execute_result"
    }
   ],
   "source": [
    "# Obtain deck specific info\n",
    "comps = [] # 1 to 1 list of compostion of each deck\n",
    "rarities = [] # 1 to 1 list of rarities in each deck\n",
    "costs = [] # 1 to 1 list of cost of each deck\n",
    "\n",
    "# function to find the important information for each deck\n",
    "def findComp(deck):\n",
    "    global comps\n",
    "    global rarities\n",
    "    comp = 0\n",
    "    rarity = 0\n",
    "    total = 0\n",
    "    # for each card in the deck\n",
    "    for card in deck:\n",
    "        curr_type = data_card_list.loc[card].type # find type of card\n",
    "        curr_rarity = data_card_list.loc[card].rarity # find rarity of card\n",
    "        total += data_card_list.loc[card].cost # find cost of card\n",
    "        # adjust the compostion accordingly\n",
    "        if(curr_type == \"unit\"):\n",
    "            comp += 1\n",
    "        elif(curr_type == \"spell\"):\n",
    "            comp += 10\n",
    "        elif(curr_type == \"defense\" or curr_type == \"spawner\" or curr_type == \"siege\" or curr_type == \"building\"):\n",
    "            # defense, spawner, siege, and buildings all count as buildings\n",
    "            comp += 100\n",
    "            \n",
    "        # adjust the rarity accordingly\n",
    "        if(curr_rarity == \"common\"):\n",
    "            rarity += 1\n",
    "        elif(curr_rarity == \"rare\"):\n",
    "            rarity += 10\n",
    "        elif(curr_rarity == \"epic\"):\n",
    "            rarity += 100\n",
    "        elif(curr_rarity == \"legendary\"):\n",
    "            rarity += 1000\n",
    "        elif(curr_rarity == \"champion\"):\n",
    "            rarity += 10000\n",
    "    # pad the composition string and rarity string with zeros to allow for accuracte indexing\n",
    "    comps.append(str(comp).zfill(3))\n",
    "    rarities.append(str(rarity).zfill(5))\n",
    "    # find average elixir cost of deck\n",
    "    costs.append(total/8)\n",
    "    \n",
    "# call function to find information on each deck\n",
    "data_decks['Deck'].apply(lambda x: findComp(x))\n",
    "# Create 'Rarity', 'Composition',and 'Costs' columns based on results\n",
    "data_decks['Rarity'] = rarities\n",
    "data_decks['Composition'] = comps\n",
    "data_decks['Costs'] = costs\n",
    "# Find the win rate of each deck and save it in 'Win Rate' columns\n",
    "data_decks['Win Rate'] = data_decks.apply(lambda x: x['Wins']/x['Occurrences'], axis=1)\n",
    "data_decks.head()"
   ]
  },
  {
   "cell_type": "markdown",
   "id": "4bde4285-f888-46bf-8e9c-71a3ac903501",
   "metadata": {},
   "source": [
    "## Data Analysis\n",
    "\n",
    "### Card Analysis\n",
    "#### Finding the Most Popular Cards"
   ]
  },
  {
   "cell_type": "code",
   "execution_count": 85,
   "id": "e9812188-fa5f-4cf4-97db-1c6ba57b738a",
   "metadata": {},
   "outputs": [
    {
     "data": {
      "text/html": [
       "<div>\n",
       "<style scoped>\n",
       "    .dataframe tbody tr th:only-of-type {\n",
       "        vertical-align: middle;\n",
       "    }\n",
       "\n",
       "    .dataframe tbody tr th {\n",
       "        vertical-align: top;\n",
       "    }\n",
       "\n",
       "    .dataframe thead th {\n",
       "        text-align: right;\n",
       "    }\n",
       "</style>\n",
       "<table border=\"1\" class=\"dataframe\">\n",
       "  <thead>\n",
       "    <tr style=\"text-align: right;\">\n",
       "      <th></th>\n",
       "      <th>card</th>\n",
       "      <th>wins</th>\n",
       "      <th>occurrences</th>\n",
       "      <th>winrate</th>\n",
       "      <th>card_name</th>\n",
       "      <th>cost</th>\n",
       "      <th>rarity</th>\n",
       "      <th>type</th>\n",
       "    </tr>\n",
       "  </thead>\n",
       "  <tbody>\n",
       "    <tr>\n",
       "      <th>31</th>\n",
       "      <td>87</td>\n",
       "      <td>226342</td>\n",
       "      <td>452233</td>\n",
       "      <td>0.500499</td>\n",
       "      <td>Fireball</td>\n",
       "      <td>4.0</td>\n",
       "      <td>rare</td>\n",
       "      <td>spell</td>\n",
       "    </tr>\n",
       "    <tr>\n",
       "      <th>13</th>\n",
       "      <td>98</td>\n",
       "      <td>219010</td>\n",
       "      <td>441936</td>\n",
       "      <td>0.495569</td>\n",
       "      <td>The Log</td>\n",
       "      <td>2.0</td>\n",
       "      <td>legendary</td>\n",
       "      <td>spell</td>\n",
       "    </tr>\n",
       "    <tr>\n",
       "      <th>32</th>\n",
       "      <td>95</td>\n",
       "      <td>193913</td>\n",
       "      <td>389347</td>\n",
       "      <td>0.498047</td>\n",
       "      <td>Zap</td>\n",
       "      <td>2.0</td>\n",
       "      <td>common</td>\n",
       "      <td>spell</td>\n",
       "    </tr>\n",
       "    <tr>\n",
       "      <th>16</th>\n",
       "      <td>11</td>\n",
       "      <td>150391</td>\n",
       "      <td>314353</td>\n",
       "      <td>0.478414</td>\n",
       "      <td>Valkyrie</td>\n",
       "      <td>4.0</td>\n",
       "      <td>rare</td>\n",
       "      <td>unit</td>\n",
       "    </tr>\n",
       "    <tr>\n",
       "      <th>30</th>\n",
       "      <td>42</td>\n",
       "      <td>152439</td>\n",
       "      <td>299980</td>\n",
       "      <td>0.508164</td>\n",
       "      <td>Electro Wizard</td>\n",
       "      <td>4.0</td>\n",
       "      <td>legendary</td>\n",
       "      <td>unit</td>\n",
       "    </tr>\n",
       "  </tbody>\n",
       "</table>\n",
       "</div>"
      ],
      "text/plain": [
       "    card    wins  occurrences   winrate       card_name  cost     rarity  \\\n",
       "31    87  226342       452233  0.500499        Fireball   4.0       rare   \n",
       "13    98  219010       441936  0.495569         The Log   2.0  legendary   \n",
       "32    95  193913       389347  0.498047             Zap   2.0     common   \n",
       "16    11  150391       314353  0.478414        Valkyrie   4.0       rare   \n",
       "30    42  152439       299980  0.508164  Electro Wizard   4.0  legendary   \n",
       "\n",
       "     type  \n",
       "31  spell  \n",
       "13  spell  \n",
       "32  spell  \n",
       "16   unit  \n",
       "30   unit  "
      ]
     },
     "metadata": {},
     "output_type": "display_data"
    }
   ],
   "source": [
    "display(card_df.sort_values(by=['occurrences'], ascending=False).head(5))"
   ]
  },
  {
   "cell_type": "markdown",
   "id": "dfc200bb-12d0-425c-999d-72b7be607e16",
   "metadata": {},
   "source": [
    "#### Finding the Least Popular Cards"
   ]
  },
  {
   "cell_type": "code",
   "execution_count": 86,
   "id": "c96e6998-2352-4caf-ac73-9ef284c2b97e",
   "metadata": {},
   "outputs": [
    {
     "data": {
      "text/html": [
       "<div>\n",
       "<style scoped>\n",
       "    .dataframe tbody tr th:only-of-type {\n",
       "        vertical-align: middle;\n",
       "    }\n",
       "\n",
       "    .dataframe tbody tr th {\n",
       "        vertical-align: top;\n",
       "    }\n",
       "\n",
       "    .dataframe thead th {\n",
       "        text-align: right;\n",
       "    }\n",
       "</style>\n",
       "<table border=\"1\" class=\"dataframe\">\n",
       "  <thead>\n",
       "    <tr style=\"text-align: right;\">\n",
       "      <th></th>\n",
       "      <th>card</th>\n",
       "      <th>wins</th>\n",
       "      <th>occurrences</th>\n",
       "      <th>winrate</th>\n",
       "      <th>card_name</th>\n",
       "      <th>cost</th>\n",
       "      <th>rarity</th>\n",
       "      <th>type</th>\n",
       "    </tr>\n",
       "  </thead>\n",
       "  <tbody>\n",
       "    <tr>\n",
       "      <th>104</th>\n",
       "      <td>79</td>\n",
       "      <td>2746</td>\n",
       "      <td>5542</td>\n",
       "      <td>0.495489</td>\n",
       "      <td>Barbarian Hut</td>\n",
       "      <td>6.0</td>\n",
       "      <td>rare</td>\n",
       "      <td>spawner</td>\n",
       "    </tr>\n",
       "    <tr>\n",
       "      <th>67</th>\n",
       "      <td>28</td>\n",
       "      <td>6494</td>\n",
       "      <td>12503</td>\n",
       "      <td>0.519395</td>\n",
       "      <td>Three Musketeers</td>\n",
       "      <td>9.0</td>\n",
       "      <td>rare</td>\n",
       "      <td>unit</td>\n",
       "    </tr>\n",
       "    <tr>\n",
       "      <th>105</th>\n",
       "      <td>67</td>\n",
       "      <td>6420</td>\n",
       "      <td>13071</td>\n",
       "      <td>0.491164</td>\n",
       "      <td>Skeleton King</td>\n",
       "      <td>4.0</td>\n",
       "      <td>champion</td>\n",
       "      <td>unit</td>\n",
       "    </tr>\n",
       "    <tr>\n",
       "      <th>87</th>\n",
       "      <td>2</td>\n",
       "      <td>7270</td>\n",
       "      <td>14658</td>\n",
       "      <td>0.495975</td>\n",
       "      <td>Goblins</td>\n",
       "      <td>2.0</td>\n",
       "      <td>common</td>\n",
       "      <td>unit</td>\n",
       "    </tr>\n",
       "    <tr>\n",
       "      <th>62</th>\n",
       "      <td>81</td>\n",
       "      <td>7731</td>\n",
       "      <td>15325</td>\n",
       "      <td>0.504470</td>\n",
       "      <td>Elixir Collector</td>\n",
       "      <td>6.0</td>\n",
       "      <td>rare</td>\n",
       "      <td>building</td>\n",
       "    </tr>\n",
       "  </tbody>\n",
       "</table>\n",
       "</div>"
      ],
      "text/plain": [
       "     card  wins  occurrences   winrate         card_name  cost    rarity  \\\n",
       "104    79  2746         5542  0.495489     Barbarian Hut   6.0      rare   \n",
       "67     28  6494        12503  0.519395  Three Musketeers   9.0      rare   \n",
       "105    67  6420        13071  0.491164     Skeleton King   4.0  champion   \n",
       "87      2  7270        14658  0.495975           Goblins   2.0    common   \n",
       "62     81  7731        15325  0.504470  Elixir Collector   6.0      rare   \n",
       "\n",
       "         type  \n",
       "104   spawner  \n",
       "67       unit  \n",
       "105      unit  \n",
       "87       unit  \n",
       "62   building  "
      ]
     },
     "metadata": {},
     "output_type": "display_data"
    }
   ],
   "source": [
    "display(card_df.sort_values(by=['occurrences'], ascending=True).head(5))"
   ]
  },
  {
   "cell_type": "markdown",
   "id": "52a651f9-4bf5-49ee-9037-dfa9e8a8dbf1",
   "metadata": {},
   "source": [
    "#### Analyzing win rate based on elixir cost"
   ]
  },
  {
   "cell_type": "code",
   "execution_count": 7,
   "id": "35091bff",
   "metadata": {},
   "outputs": [
    {
     "data": {
      "image/png": "[encoded data removed]",
      "text/plain": [
       "<Figure size 432x288 with 1 Axes>"
      ]
     },
     "metadata": {
      "needs_background": "light"
     },
     "output_type": "display_data"
    }
   ],
   "source": [
    "# make a scatter plot of winrate by elixir cost per card\n",
    "for rarity in card_df['rarity'].unique():\n",
    "    rarity_lst = card_df[card_df['rarity'] == rarity]\n",
    "\n",
    "    # reg = LinearRegression()\n",
    "    # x = np.array(rarity_lst['cost']).reshape(-1, 1)\n",
    "    # y = np.array(rarity_lst['winrate']).reshape(-1, 1)\n",
    "    # reg.fit(x, y)\n",
    "    # y_exp = reg.predict(x)\n",
    "\n",
    "    plt.scatter(rarity_lst['cost'], rarity_lst['winrate'], label=rarity)\n",
    "    # plt.plot(x, y_exp)\n",
    "\n",
    "    \n",
    "plt.title('Winrate by Cost per card')\n",
    "plt.xlabel('Elixir Cost')\n",
    "plt.ylabel('Winrate')\n",
    "plt.legend(loc='upper right')\n",
    "plt.show()"
   ]
  },
  {
   "cell_type": "markdown",
   "id": "d27925af-cb18-4399-965f-584ac1a4b1f0",
   "metadata": {},
   "source": [
    "#### Find occurrences of cards by rarity"
   ]
  },
  {
   "cell_type": "code",
   "execution_count": 69,
   "id": "c1c012e0",
   "metadata": {},
   "outputs": [
    {
     "data": {
      "image/png": "[encoded data removed]",
      "text/plain": [
       "<Figure size 432x288 with 1 Axes>"
      ]
     },
     "metadata": {
      "needs_background": "light"
     },
     "output_type": "display_data"
    }
   ],
   "source": [
    "lst = []\n",
    "# rarities = card_df['rarity'].unique()\n",
    "rarities = ['common', 'rare', 'epic', 'legendary', 'champion']\n",
    "for rarity in rarities:\n",
    "    lst.append(card_df[card_df['rarity'] == rarity].occurrences)\n",
    "    \n",
    "fig, ax = plt.subplots()\n",
    "#ax.set_xticks([1, 2, 3, 4, 5])\n",
    "#ax.set_xticklabels(rarities)\n",
    "ax.bar(card_df.groupby('rarity')['occurrences'].sum().index,card_df.groupby('rarity')['occurrences'].sum().values)\n",
    "ax.set_xlabel('Rarity')\n",
    "ax.set_ylabel('Occurrence')\n",
    "ax.set_title('Occurence over Rarity by Card')\n",
    "plt.show()"
   ]
  },
  {
   "cell_type": "markdown",
   "id": "33c2c2c5-2b67-4320-bfd1-93b30aff3ea8",
   "metadata": {},
   "source": [
    "#### Analyzing win rate based on rarity"
   ]
  },
  {
   "cell_type": "code",
   "execution_count": 8,
   "id": "d6c87597",
   "metadata": {},
   "outputs": [
    {
     "data": {
      "text/plain": [
       "Text(0.5, 1.0, 'Winrate over Rarity by Card')"
      ]
     },
     "execution_count": 8,
     "metadata": {},
     "output_type": "execute_result"
    },
    {
     "data": {
      "image/png": "[encoded data removed]",
      "text/plain": [
       "<Figure size 432x288 with 1 Axes>"
      ]
     },
     "metadata": {
      "needs_background": "light"
     },
     "output_type": "display_data"
    }
   ],
   "source": [
    "lst = []\n",
    "# rarities = card_df['rarity'].unique()\n",
    "rarities = ['common', 'rare', 'epic', 'legendary', 'champion']\n",
    "for rarity in rarities:\n",
    "    lst.append(card_df[card_df['rarity'] == rarity].winrate)\n",
    "    \n",
    "fig, ax = plt.subplots()\n",
    "ax.set_xticks([1, 2, 3, 4, 5])\n",
    "ax.set_xticklabels(rarities)\n",
    "ax.violinplot(lst, showmeans=True)\n",
    "ax.set_xlabel('Rarity')\n",
    "ax.set_ylabel('Winrate')\n",
    "ax.set_title('Winrate over Rarity by Card')"
   ]
  },
  {
   "cell_type": "markdown",
   "id": "1b267625-7a2f-437f-8e16-0ab24833f91e",
   "metadata": {},
   "source": [
    "#### Analyzing Density of Win Rate based on Card Cost"
   ]
  },
  {
   "cell_type": "code",
   "execution_count": 50,
   "id": "78127abf",
   "metadata": {},
   "outputs": [
    {
     "data": {
      "image/png": "[encoded data removed]",
      "text/plain": [
       "<Figure size 446.375x360 with 1 Axes>"
      ]
     },
     "metadata": {
      "needs_background": "light"
     },
     "output_type": "display_data"
    }
   ],
   "source": [
    "sns.displot(data=card_df, x='cost', y='winrate', hue='rarity', kind='kde',warn_singular=False)\n",
    "plt.show()"
   ]
  },
  {
   "cell_type": "markdown",
   "id": "d2fb68ef-7638-42e1-94d4-e6eb8ed148a6",
   "metadata": {},
   "source": [
    "#### Analyzing win rate based on occurrences"
   ]
  },
  {
   "cell_type": "code",
   "execution_count": 72,
   "id": "6f019cc0-8747-4867-9fa2-f50dd6dd7616",
   "metadata": {},
   "outputs": [
    {
     "data": {
      "image/png": "[encoded data removed]",
      "text/plain": [
       "<Figure size 432x288 with 1 Axes>"
      ]
     },
     "metadata": {
      "needs_background": "light"
     },
     "output_type": "display_data"
    }
   ],
   "source": [
    "fig, ax = plt.subplots()\n",
    "# Setting labels\n",
    "ax.set_ylabel(\"Occurrences\")\n",
    "ax.set_xlabel(\"Win Rate\")\n",
    "ax.set_title(\"Occurrences versus Win Rate per card\")\n",
    "# Plotting occurences by winrate\n",
    "ax.scatter(card_df[\"occurrences\"],card_df[\"winrate\"])\n",
    "fig.show()"
   ]
  },
  {
   "cell_type": "markdown",
   "id": "0a0fc49e-9eaa-4198-98bc-0eabd51f22e3",
   "metadata": {},
   "source": [
    "#### Analyzing win rate based on type of card"
   ]
  },
  {
   "cell_type": "code",
   "execution_count": 73,
   "id": "8c7d1cb0-b63c-4c64-9edb-e41ab7a288e8",
   "metadata": {},
   "outputs": [
    {
     "data": {
      "image/png": "[encoded data removed]",
      "text/plain": [
       "<Figure size 432x288 with 1 Axes>"
      ]
     },
     "metadata": {
      "needs_background": "light"
     },
     "output_type": "display_data"
    }
   ],
   "source": [
    "lst = []\n",
    "types = ['unit', 'spell', 'building', 'spawner', 'defense', 'siege']\n",
    "for _type in types:\n",
    "    lst.append(card_df[card_df['type'] == _type].winrate)\n",
    "\n",
    "fig, ax = plt.subplots()\n",
    "ax.set_xticks([1, 2, 3, 4, 5, 6])\n",
    "ax.set_xticklabels(types)\n",
    "ax.violinplot(lst, showmeans=True)\n",
    "ax.set_xlabel('Type')\n",
    "ax.set_ylabel('Winrate')\n",
    "ax.set_title('Winrate over Type by Card')\n",
    "plt.show()"
   ]
  },
  {
   "cell_type": "markdown",
   "id": "106a37dc",
   "metadata": {},
   "source": [
    "### Deck Analysis\n",
    "In this section, we analyze the usage statistics of decks. We find which decks are the most popular, which have the most wins, and what common deck composition looks like.\n",
    "\n",
    "#### Finding the most popular decks\n",
    "The first part of the analysis of decks is finding out which decks were used the most. These are the 5 most common decks."
   ]
  },
  {
   "cell_type": "code",
   "execution_count": 11,
   "id": "a6c80cc5-4b90-4a3f-889c-223afd4c12d3",
   "metadata": {},
   "outputs": [
    {
     "data": {
      "text/html": [
       "<div>\n",
       "<style scoped>\n",
       "    .dataframe tbody tr th:only-of-type {\n",
       "        vertical-align: middle;\n",
       "    }\n",
       "\n",
       "    .dataframe tbody tr th {\n",
       "        vertical-align: top;\n",
       "    }\n",
       "\n",
       "    .dataframe thead th {\n",
       "        text-align: right;\n",
       "    }\n",
       "</style>\n",
       "<table border=\"1\" class=\"dataframe\">\n",
       "  <thead>\n",
       "    <tr style=\"text-align: right;\">\n",
       "      <th></th>\n",
       "      <th>Deck</th>\n",
       "      <th>Occurrences</th>\n",
       "      <th>Wins</th>\n",
       "      <th>Trophies</th>\n",
       "      <th>Rarity</th>\n",
       "      <th>Composition</th>\n",
       "      <th>Costs</th>\n",
       "      <th>Win Rate</th>\n",
       "    </tr>\n",
       "  </thead>\n",
       "  <tbody>\n",
       "    <tr>\n",
       "      <th>13</th>\n",
       "      <td>(10, 14, 21, 30, 38, 74, 87, 98)</td>\n",
       "      <td>32405</td>\n",
       "      <td>15767</td>\n",
       "      <td>6395.736399</td>\n",
       "      <td>01043</td>\n",
       "      <td>125</td>\n",
       "      <td>2.625</td>\n",
       "      <td>0.486561</td>\n",
       "    </tr>\n",
       "    <tr>\n",
       "      <th>27</th>\n",
       "      <td>(4, 36, 42, 46, 50, 62, 87, 95)</td>\n",
       "      <td>24027</td>\n",
       "      <td>12734</td>\n",
       "      <td>6576.361468</td>\n",
       "      <td>04121</td>\n",
       "      <td>026</td>\n",
       "      <td>3.875</td>\n",
       "      <td>0.529987</td>\n",
       "    </tr>\n",
       "    <tr>\n",
       "      <th>176</th>\n",
       "      <td>(0, 26, 30, 41, 77, 90, 91, 98)</td>\n",
       "      <td>18166</td>\n",
       "      <td>8849</td>\n",
       "      <td>6302.657382</td>\n",
       "      <td>02123</td>\n",
       "      <td>134</td>\n",
       "      <td>3.250</td>\n",
       "      <td>0.487119</td>\n",
       "    </tr>\n",
       "    <tr>\n",
       "      <th>14</th>\n",
       "      <td>(6, 34, 35, 37, 63, 92, 99, 102)</td>\n",
       "      <td>16286</td>\n",
       "      <td>9002</td>\n",
       "      <td>6612.563552</td>\n",
       "      <td>02600</td>\n",
       "      <td>035</td>\n",
       "      <td>4.000</td>\n",
       "      <td>0.552745</td>\n",
       "    </tr>\n",
       "    <tr>\n",
       "      <th>43</th>\n",
       "      <td>(0, 1, 10, 72, 80, 82, 87, 98)</td>\n",
       "      <td>10385</td>\n",
       "      <td>5229</td>\n",
       "      <td>6587.376312</td>\n",
       "      <td>01115</td>\n",
       "      <td>224</td>\n",
       "      <td>3.000</td>\n",
       "      <td>0.503515</td>\n",
       "    </tr>\n",
       "  </tbody>\n",
       "</table>\n",
       "</div>"
      ],
      "text/plain": [
       "                                 Deck  Occurrences   Wins     Trophies Rarity  \\\n",
       "13   (10, 14, 21, 30, 38, 74, 87, 98)        32405  15767  6395.736399  01043   \n",
       "27    (4, 36, 42, 46, 50, 62, 87, 95)        24027  12734  6576.361468  04121   \n",
       "176   (0, 26, 30, 41, 77, 90, 91, 98)        18166   8849  6302.657382  02123   \n",
       "14   (6, 34, 35, 37, 63, 92, 99, 102)        16286   9002  6612.563552  02600   \n",
       "43     (0, 1, 10, 72, 80, 82, 87, 98)        10385   5229  6587.376312  01115   \n",
       "\n",
       "    Composition  Costs  Win Rate  \n",
       "13          125  2.625  0.486561  \n",
       "27          026  3.875  0.529987  \n",
       "176         134  3.250  0.487119  \n",
       "14          035  4.000  0.552745  \n",
       "43          224  3.000  0.503515  "
      ]
     },
     "metadata": {},
     "output_type": "display_data"
    }
   ],
   "source": [
    "# Finding the 5 most common decks\n",
    "display(data_decks.sort_values(by=['Occurrences'], ascending=False).head(5))"
   ]
  },
  {
   "cell_type": "markdown",
   "id": "3a6ef72f-eafd-4a50-a8ff-b8f0f52fc23b",
   "metadata": {},
   "source": [
    "The second part of analysis is looking at which decks won the most. Interestingly, the third most common deck has less wins than the fourth most common deck, despite having almost 20000 more games."
   ]
  },
  {
   "cell_type": "code",
   "execution_count": 12,
   "id": "3dc094d7-5e06-41fb-8d0a-6a5b942c2449",
   "metadata": {},
   "outputs": [
    {
     "data": {
      "text/html": [
       "<div>\n",
       "<style scoped>\n",
       "    .dataframe tbody tr th:only-of-type {\n",
       "        vertical-align: middle;\n",
       "    }\n",
       "\n",
       "    .dataframe tbody tr th {\n",
       "        vertical-align: top;\n",
       "    }\n",
       "\n",
       "    .dataframe thead th {\n",
       "        text-align: right;\n",
       "    }\n",
       "</style>\n",
       "<table border=\"1\" class=\"dataframe\">\n",
       "  <thead>\n",
       "    <tr style=\"text-align: right;\">\n",
       "      <th></th>\n",
       "      <th>Deck</th>\n",
       "      <th>Occurrences</th>\n",
       "      <th>Wins</th>\n",
       "      <th>Trophies</th>\n",
       "      <th>Rarity</th>\n",
       "      <th>Composition</th>\n",
       "      <th>Costs</th>\n",
       "      <th>Win Rate</th>\n",
       "    </tr>\n",
       "  </thead>\n",
       "  <tbody>\n",
       "    <tr>\n",
       "      <th>13</th>\n",
       "      <td>(10, 14, 21, 30, 38, 74, 87, 98)</td>\n",
       "      <td>32405</td>\n",
       "      <td>15767</td>\n",
       "      <td>6395.736399</td>\n",
       "      <td>01043</td>\n",
       "      <td>125</td>\n",
       "      <td>2.625</td>\n",
       "      <td>0.486561</td>\n",
       "    </tr>\n",
       "    <tr>\n",
       "      <th>27</th>\n",
       "      <td>(4, 36, 42, 46, 50, 62, 87, 95)</td>\n",
       "      <td>24027</td>\n",
       "      <td>12734</td>\n",
       "      <td>6576.361468</td>\n",
       "      <td>04121</td>\n",
       "      <td>026</td>\n",
       "      <td>3.875</td>\n",
       "      <td>0.529987</td>\n",
       "    </tr>\n",
       "    <tr>\n",
       "      <th>14</th>\n",
       "      <td>(6, 34, 35, 37, 63, 92, 99, 102)</td>\n",
       "      <td>16286</td>\n",
       "      <td>9002</td>\n",
       "      <td>6612.563552</td>\n",
       "      <td>02600</td>\n",
       "      <td>035</td>\n",
       "      <td>4.000</td>\n",
       "      <td>0.552745</td>\n",
       "    </tr>\n",
       "    <tr>\n",
       "      <th>176</th>\n",
       "      <td>(0, 26, 30, 41, 77, 90, 91, 98)</td>\n",
       "      <td>18166</td>\n",
       "      <td>8849</td>\n",
       "      <td>6302.657382</td>\n",
       "      <td>02123</td>\n",
       "      <td>134</td>\n",
       "      <td>3.250</td>\n",
       "      <td>0.487119</td>\n",
       "    </tr>\n",
       "    <tr>\n",
       "      <th>43</th>\n",
       "      <td>(0, 1, 10, 72, 80, 82, 87, 98)</td>\n",
       "      <td>10385</td>\n",
       "      <td>5229</td>\n",
       "      <td>6587.376312</td>\n",
       "      <td>01115</td>\n",
       "      <td>224</td>\n",
       "      <td>3.000</td>\n",
       "      <td>0.503515</td>\n",
       "    </tr>\n",
       "  </tbody>\n",
       "</table>\n",
       "</div>"
      ],
      "text/plain": [
       "                                 Deck  Occurrences   Wins     Trophies Rarity  \\\n",
       "13   (10, 14, 21, 30, 38, 74, 87, 98)        32405  15767  6395.736399  01043   \n",
       "27    (4, 36, 42, 46, 50, 62, 87, 95)        24027  12734  6576.361468  04121   \n",
       "14   (6, 34, 35, 37, 63, 92, 99, 102)        16286   9002  6612.563552  02600   \n",
       "176   (0, 26, 30, 41, 77, 90, 91, 98)        18166   8849  6302.657382  02123   \n",
       "43     (0, 1, 10, 72, 80, 82, 87, 98)        10385   5229  6587.376312  01115   \n",
       "\n",
       "    Composition  Costs  Win Rate  \n",
       "13          125  2.625  0.486561  \n",
       "27          026  3.875  0.529987  \n",
       "14          035  4.000  0.552745  \n",
       "176         134  3.250  0.487119  \n",
       "43          224  3.000  0.503515  "
      ]
     },
     "metadata": {},
     "output_type": "display_data"
    }
   ],
   "source": [
    "# Finding the 5 most winning decks\n",
    "display(data_decks.sort_values(by=['Wins'], ascending=False).head(5))"
   ]
  },
  {
   "cell_type": "markdown",
   "id": "b3b105ec-6c47-4935-87c5-ee8ead1d3a25",
   "metadata": {},
   "source": [
    "#### Analyzing Deck Composition\n",
    "##### Finding the most common compositions\n",
    "Each deck has 8 cards. The types of cards are unit, spell, and building. There can be at most 8 cards of a type in a deck. It is also possible that there are no cards of a type in a deck. We find the 5 most common compositions of decks in terms of type of cards."
   ]
  },
  {
   "cell_type": "code",
   "execution_count": 13,
   "id": "14f471f7-4b7d-4cb3-b8e9-cca7b0a54c8f",
   "metadata": {},
   "outputs": [
    {
     "name": "stdout",
     "output_type": "stream",
     "text": [
      "Buildings: 0, Spells: 2, Units: 6  | Occurences: 91676\n",
      "Deck:  P.E.K.K.A, Battle Ram, Electro Wizard, Bandit, Royal Ghost, Magic Archer, Fireball, Zap\n",
      "\n",
      "Buildings: 1, Spells: 2, Units: 5  | Occurences: 66117\n",
      "Deck:  Skeletons, Musketeer, Hog Rider, Ice Spirit, Ice Golem, Cannon, Fireball, The Log\n",
      "\n",
      "Buildings: 0, Spells: 3, Units: 5  | Occurences: 42565\n",
      "Deck:  Balloon, Bowler, Lumberjack, Inferno Dragon, Electro Dragon, Freeze, Tornado, Barbarian Barrel\n",
      "\n",
      "Buildings: 0, Spells: 1, Units: 7  | Occurences: 38373\n",
      "Deck:  Spear Goblins, Miner, Inferno Dragon, Goblin Gang, Bats, Mega Knight, Skeleton Barrel, Zap\n",
      "\n",
      "Buildings: 1, Spells: 3, Units: 4  | Occurences: 31398\n",
      "Deck:  Knight, Princess, Ice Spirit, Goblin Gang, Inferno Tower, Rocket, Goblin Barrel, The Log\n",
      "\n"
     ]
    }
   ],
   "source": [
    "# Finding the 5 most common general compositions\n",
    "most_common_comps = data_decks['Composition'].value_counts()[0:5]\n",
    "\n",
    "for index in most_common_comps.index:\n",
    "    print(\"Buildings: \"+index[0]+\", Spells: \"+index[1]+\", Units: \"+index[2],\" | Occurences: \"+str(most_common_comps[index]))\n",
    "    # Finding most popular deck of each composition in the top 5\n",
    "    deck = \"\"\n",
    "    for card in data_decks[data_decks['Composition'] == index].sort_values(by=['Occurrences'], ascending=False).head(1)['Deck'].values[0]:\n",
    "        deck = deck + \" \" + data_card_list.loc[card].card + \",\"\n",
    "    print(\"Deck: \"+ deck[:-1]+\"\\n\")"
   ]
  },
  {
   "cell_type": "markdown",
   "id": "84ca57c7-d041-4ca7-8881-409fda1e3aa9",
   "metadata": {},
   "source": [
    "The most common composition is 0 buildings, 2 spells, and 6 units. Generally, the number of buildings < number of spells < number of units. We noticed that most of these decks contain unique units but the spells are similar. This makes sense given that the most popular cards tended to be spells.\n",
    "\n",
    "##### Finding the least common compositions\n",
    "In this section we find the 5 least common deck compositions."
   ]
  },
  {
   "cell_type": "code",
   "execution_count": 14,
   "id": "3d2fb109-5e3b-4ff0-b683-bfd8abe10e25",
   "metadata": {},
   "outputs": [
    {
     "name": "stdout",
     "output_type": "stream",
     "text": [
      "Buildings: 4, Spells: 0, Units: 4  | Occurences: 6\n",
      "Deck:  Bowler, Dart Goblin, Flying Machine, Firecracker, Goblin Hut, Elixir Collector, Tombstone, Furnace\n",
      "\n",
      "Buildings: 6, Spells: 1, Units: 1  | Occurences: 5\n",
      "Deck:  Fire Spirit, Goblin Hut, Bomb Tower, Barbarian Hut, Tesla, Tombstone, Furnace, Mirror\n",
      "\n",
      "Buildings: 8, Spells: 0, Units: 0  | Occurences: 5\n",
      "Deck:  Cannon, Goblin Hut, Mortar, Barbarian Hut, Tesla, X-Bow, Tombstone, Furnace\n",
      "\n",
      "Buildings: 7, Spells: 0, Units: 1  | Occurences: 4\n",
      "Deck:  Cannon Cart, Inferno Tower, Bomb Tower, Barbarian Hut, Tesla, X-Bow, Furnace, Goblin Drill\n",
      "\n",
      "Buildings: 6, Spells: 0, Units: 2  | Occurences: 1\n",
      "Deck:  Skeleton Army, Mini P.E.K.K.A, Cannon, Mortar, Inferno Tower, Bomb Tower, Tesla, Tombstone\n",
      "\n",
      "Buildings: 5, Spells: 0, Units: 3  | Occurences: 1\n",
      "Deck:  Ice Spirit, Fire Spirit, Golden Knight, Goblin Hut, Barbarian Hut, Tombstone, Furnace, Goblin Drill\n",
      "\n"
     ]
    }
   ],
   "source": [
    "# Finding 5 least common compositions\n",
    "least_common_comps = data_decks['Composition'].value_counts()[-6:]\n",
    "\n",
    "for index in least_common_comps.index:\n",
    "    print(\"Buildings: \"+index[0]+\", Spells: \"+index[1]+\", Units: \"+index[2],\" | Occurences: \"+str(least_common_comps[index]))\n",
    "    # Finding least popular deck of each composition in bottom top 5\n",
    "    deck = \"\"\n",
    "    for card in data_decks[data_decks['Composition'] == index].sort_values(by=['Occurrences'], ascending=False).head(1)['Deck'].values[0]:\n",
    "        deck = deck + \" \" + data_card_list.loc[card].card + \",\"\n",
    "    print(\"Deck: \"+ deck[:-1]+\"\\n\")"
   ]
  },
  {
   "cell_type": "markdown",
   "id": "74d1a2ec-deb4-44b6-8886-d14c3e3f8817",
   "metadata": {},
   "source": [
    "The least common composition is 5 buildings, 0 spells, and 3 units. Generally, the number of buildings > number of spells and number of units. This would indicate that buildings are generally not used very often, especially in high concentrations.\n",
    "\n",
    "##### Visualizing the Compositions\n",
    "In order to visualize the typical composition of decks, we created a bar chart to indicate how common a certain composition was. The x-axis corresponds to the number of the type of card in the deck while the y-axis corresponds to the number of occurrences of this format."
   ]
  },
  {
   "cell_type": "code",
   "execution_count": 15,
   "id": "70ed6f8f-a922-4fff-993e-27ae54e79e9b",
   "metadata": {},
   "outputs": [
    {
     "data": {
      "image/png": "[encoded data removed]",
      "text/plain": [
       "<Figure size 1440x720 with 1 Axes>"
      ]
     },
     "metadata": {
      "needs_background": "light"
     },
     "output_type": "display_data"
    }
   ],
   "source": [
    "units = data_decks['Composition'].apply(lambda x: int(x[2])).value_counts() # counting the number of units for each deck\n",
    "spells = data_decks['Composition'].apply(lambda x: int(x[1])).value_counts() # counting the number of spells for each deck\n",
    "buildings = data_decks['Composition'].apply(lambda x: int(x[0])).value_counts() # counting the number of buildings for each deck\n",
    "\n",
    "# Creating plot\n",
    "fig, ax = plt.subplots(figsize=(20,10))\n",
    "# Setting labels\n",
    "ax.set_ylabel(\"Occurrences\")\n",
    "ax.set_xlabel(\"Number of Cards\")\n",
    "ax.set_title(\"Occurrences of Numbers of Cards based on Type\")\n",
    "# Plotting occurrences of each composition\n",
    "ax.bar(buildings.index-.2, buildings.values, .2, label='buildings')\n",
    "ax.bar(units.index, units.values, .2, label='units')\n",
    "ax.bar(spells.index + .2, spells.values, .2, label='spells')\n",
    "ax.set_xticks(np.arange(9), ['0','1','2','3','4','5','6','7','8'])\n",
    "plt.legend(loc=\"upper right\")\n",
    "fig.show()"
   ]
  },
  {
   "cell_type": "markdown",
   "id": "1079a2a6-25ca-40dd-94fd-6dd9c990be42",
   "metadata": {},
   "source": [
    "It appears that the most common composition is 0 buildings, 2 spells, and 6 units. This agrees very well with the results from the previous step of finding the 5 most common compositions. The majority of decks tend to run 0 or 1 buildings. This also agrees with our findings that buildings are not typically used in high numbers. The usage data for spells and units is normally distributed, while the usage data of buildings is not. \n",
    "\n",
    "#### Analyzing Deck Rarity Composition\n",
    "##### Finding the most common rarity composition\n",
    "This section will analyze common rarity compositions for decks. There are 5 different types of rarities. In increasing rarity, these are common, rare, epic, legendary, and champion. Each deck can have at most one champion in it. "
   ]
  },
  {
   "cell_type": "code",
   "execution_count": 16,
   "id": "ae5c8db1-e5ef-4e2e-9481-95e1aae405f7",
   "metadata": {},
   "outputs": [
    {
     "name": "stdout",
     "output_type": "stream",
     "text": [
      "Champions: 0, Legendaries: 2, Epics: 2, Rares: 2, Commons: 2  | Occurences: 11973\n",
      "Deck:  Prince, Princess, Dart Goblin, Goblin Gang, Rascals, Rocket, Goblin Barrel, The Log\n",
      "\n",
      "Champions: 0, Legendaries: 1, Epics: 3, Rares: 2, Commons: 2  | Occurences: 10339\n",
      "Deck:  Golem, Bomber, Baby Dragon, Mini P.E.K.K.A, Mega Minion, Night Witch, Arrows, Lightning\n",
      "\n",
      "Champions: 0, Legendaries: 1, Epics: 2, Rares: 3, Commons: 2  | Occurences: 10236\n",
      "Deck:  Balloon, Skeletons, Musketeer, Miner, Ice Golem, Bomb Tower, Barbarian Barrel, Giant Snowball\n",
      "\n",
      "Champions: 0, Legendaries: 1, Epics: 2, Rares: 2, Commons: 3  | Occurences: 10209\n",
      "Deck:  Balloon, Guards, Lava Hound, Mega Minion, Skeleton Dragons, Tombstone, Fireball, Zap\n",
      "\n",
      "Champions: 0, Legendaries: 2, Epics: 3, Rares: 1, Commons: 2  | Occurences: 8140\n",
      "Deck:  Skeleton Army, Prince, Royal Giant, Princess, Dart Goblin, Bats, Mega Knight, Goblin Barrel\n",
      "\n"
     ]
    }
   ],
   "source": [
    "# Finding the 5 most common rarities\n",
    "most_common_rars = data_decks['Rarity'].value_counts()[0:5]\n",
    "\n",
    "for index in most_common_rars.index:\n",
    "    print(\"Champions: \"+index[0]+\", Legendaries: \"+index[1]+\", Epics: \"+index[2]+\", Rares: \"+index[3]+\", Commons: \"+index[4],\" | Occurences: \"+str(most_common_rars[index]))\n",
    "    # Finding least popular deck of each composition in bottom top 5\n",
    "    deck = \"\"\n",
    "    for card in data_decks[data_decks['Rarity'] == index].sort_values(by=['Occurrences'], ascending=False).head(1)['Deck'].values[0]:\n",
    "        deck = deck + \" \" + data_card_list.loc[card].card + \",\"\n",
    "    print(\"Deck: \"+ deck[:-1]+\"\\n\")"
   ]
  },
  {
   "cell_type": "markdown",
   "id": "cfc02523-7171-4031-9281-87de4079f85d",
   "metadata": {},
   "source": [
    "The most common rarity composition is 0 champions and 2 legendaries, 2 epics, 2 rares and 2 commons. Champions are notable not found in any of the top 5 most common compositions. This could be because they are difficult to unlock. Also, most deck compositions are pretty diverse in terms of legendaries, epics, rares and commons.\n",
    "\n",
    "##### Finding the least common rarity compositions\n",
    "We find the 5 least common rarity compositions"
   ]
  },
  {
   "cell_type": "code",
   "execution_count": 17,
   "id": "922fabc3-8780-40c9-82cd-2aa71c3402d3",
   "metadata": {},
   "outputs": [
    {
     "name": "stdout",
     "output_type": "stream",
     "text": [
      "Champions: 1, Legendaries: 6, Epics: 0, Rares: 0, Commons: 1  | Occurences: 7\n",
      "Deck:  Lumberjack, Inferno Dragon, Electro Wizard, Royal Ghost, Mega Knight, Archer Queen, Mother Witch, Zap\n",
      "\n",
      "Champions: 1, Legendaries: 0, Epics: 1, Rares: 6, Commons: 0  | Occurences: 4\n",
      "Deck:  Dart Goblin, Zappies, Flying Machine, Royal Hogs, Golden Knight, Goblin Cage, Fireball, Barbarian Barrel\n",
      "\n",
      "Champions: 1, Legendaries: 1, Epics: 0, Rares: 6, Commons: 0  | Occurences: 4\n",
      "Deck:  Valkyrie, Mini P.E.K.K.A, Hog Rider, Electro Wizard, Archer Queen, Goblin Hut, Fireball, Earthquake\n",
      "\n",
      "Champions: 0, Legendaries: 0, Epics: 0, Rares: 8, Commons: 0  | Occurences: 4\n",
      "Deck:  Valkyrie, Musketeer, Mini P.E.K.K.A, Hog Rider, Flying Machine, Goblin Hut, Furnace, Fireball\n",
      "\n",
      "Champions: 1, Legendaries: 0, Epics: 0, Rares: 7, Commons: 0  | Occurences: 1\n",
      "Deck:  Giant, Valkyrie, Musketeer, Wizard, Mini P.E.K.K.A, Golden Knight, Inferno Tower, Fireball\n",
      "\n",
      "Champions: 1, Legendaries: 0, Epics: 0, Rares: 0, Commons: 7  | Occurences: 1\n",
      "Deck:  Knight, Skeletons, Bomber, Spear Goblins, Ice Spirit, Goblin Gang, Bats, Archer Queen\n",
      "\n"
     ]
    }
   ],
   "source": [
    "# Finding the 5 most common compositions\n",
    "least_common_rars = data_decks['Rarity'].value_counts()[-6:]\n",
    "\n",
    "for index in least_common_rars.index:\n",
    "    print(\"Champions: \"+index[0]+\", Legendaries: \"+index[1]+\", Epics: \"+index[2]+\", Rares: \"+index[3]+\", Commons: \"+index[4],\" | Occurences: \"+str(least_common_rars[index]))\n",
    "    # Finding least popular deck of each composition in bottom top 5\n",
    "    deck = \"\"\n",
    "    for card in data_decks[data_decks['Rarity'] == index].sort_values(by=['Occurrences'], ascending=False).head(1)['Deck'].values[0]:\n",
    "        deck = deck + \" \" + data_card_list.loc[card].card + \",\"\n",
    "    print(\"Deck: \"+ deck[:-1]+\"\\n\")"
   ]
  },
  {
   "cell_type": "markdown",
   "id": "5c97f1f2-9df9-461b-b170-31e074f80351",
   "metadata": {},
   "source": [
    "The least common rarity composition is 1 champion and 7 commons. There is a much higher presence of champions here. Additionally, the decks are much less diverse.\n",
    "\n",
    "##### Visualizing the Rarity Compositions\n",
    "In order to visualize the typical rarity composition of decks, we created a bar chart to indicate how common a certain rarity composition was. The x-axis corresponds to the number of that rarity in the deck while the y-axis corresponds to the number of occurrences of this format."
   ]
  },
  {
   "cell_type": "code",
   "execution_count": 18,
   "id": "092dbc3f-f05d-41ba-9cb5-e939207eea2d",
   "metadata": {},
   "outputs": [
    {
     "data": {
      "image/png": "[encoded data removed]",
      "text/plain": [
       "<Figure size 1440x720 with 1 Axes>"
      ]
     },
     "metadata": {
      "needs_background": "light"
     },
     "output_type": "display_data"
    }
   ],
   "source": [
    "common = data_decks['Rarity'].apply(lambda x: int(x[4])).value_counts() # counting the number of commons\n",
    "rare = data_decks['Rarity'].apply(lambda x: int(x[3])).value_counts() # counting the number of rares\n",
    "epic = data_decks['Rarity'].apply(lambda x: int(x[2])).value_counts() # counting the number of epics\n",
    "legendary = data_decks['Rarity'].apply(lambda x: int(x[1])).value_counts() # counting the number of legendaries\n",
    "champion = data_decks['Rarity'].apply(lambda x: int(x[0])).value_counts() # counting the number of champions\n",
    "\n",
    "# Creating plot\n",
    "fig, ax = plt.subplots(figsize=(20,10))\n",
    "# Setting labels\n",
    "ax.set_ylabel(\"Occurrences\")\n",
    "ax.set_xlabel(\"Composition\")\n",
    "ax.set_title(\"Occurrences of Rarity Composition\")\n",
    "# Plotting occurrences of each composition\n",
    "ax.bar(common.index-.2, common.values, .1, label='common')\n",
    "ax.bar(rare.index-.1, rare.values, .1, label='rare')\n",
    "ax.bar(epic.index, epic.values, .1, label='epic')\n",
    "ax.bar(legendary.index+.1, legendary.values, .1, label='legendary')\n",
    "ax.bar(champion.index+.2, champion.values, .1, label='champion')\n",
    "\n",
    "ax.set_xticks(np.arange(9), ['0','1','2','3','4','5','6','7','8'])\n",
    "plt.legend(loc=\"upper right\")\n",
    "fig.show()"
   ]
  },
  {
   "cell_type": "code",
   "execution_count": 30,
   "id": "d40a2bd5",
   "metadata": {},
   "outputs": [
    {
     "data": {
      "text/html": [
       "<div>\n",
       "<style scoped>\n",
       "    .dataframe tbody tr th:only-of-type {\n",
       "        vertical-align: middle;\n",
       "    }\n",
       "\n",
       "    .dataframe tbody tr th {\n",
       "        vertical-align: top;\n",
       "    }\n",
       "\n",
       "    .dataframe thead th {\n",
       "        text-align: right;\n",
       "    }\n",
       "</style>\n",
       "<table border=\"1\" class=\"dataframe\">\n",
       "  <thead>\n",
       "    <tr style=\"text-align: right;\">\n",
       "      <th></th>\n",
       "      <th>Deck</th>\n",
       "      <th>Occurrences</th>\n",
       "      <th>Wins</th>\n",
       "      <th>losses</th>\n",
       "      <th>Rarity</th>\n",
       "      <th>Composition</th>\n",
       "      <th>Average Elixir Cost</th>\n",
       "      <th>Trophies</th>\n",
       "      <th>Win Rate</th>\n",
       "    </tr>\n",
       "  </thead>\n",
       "  <tbody>\n",
       "    <tr>\n",
       "      <th>0</th>\n",
       "      <td>(8, 34, 37, 52, 69, 88, 92, 97)</td>\n",
       "      <td>30</td>\n",
       "      <td>17</td>\n",
       "      <td>13</td>\n",
       "      <td>12212</td>\n",
       "      <td>035</td>\n",
       "      <td>4.250</td>\n",
       "      <td>6963.566667</td>\n",
       "      <td>0.566667</td>\n",
       "    </tr>\n",
       "    <tr>\n",
       "      <th>1</th>\n",
       "      <td>(11, 12, 13, 58, 77, 86, 87, 98)</td>\n",
       "      <td>22</td>\n",
       "      <td>9</td>\n",
       "      <td>13</td>\n",
       "      <td>01331</td>\n",
       "      <td>224</td>\n",
       "      <td>3.250</td>\n",
       "      <td>7339.909091</td>\n",
       "      <td>0.409091</td>\n",
       "    </tr>\n",
       "    <tr>\n",
       "      <th>2</th>\n",
       "      <td>(11, 37, 53, 83, 88, 92, 97, 102)</td>\n",
       "      <td>183</td>\n",
       "      <td>83</td>\n",
       "      <td>100</td>\n",
       "      <td>02213</td>\n",
       "      <td>143</td>\n",
       "      <td>3.750</td>\n",
       "      <td>6996.245902</td>\n",
       "      <td>0.453552</td>\n",
       "    </tr>\n",
       "    <tr>\n",
       "      <th>3</th>\n",
       "      <td>(19, 22, 25, 32, 54, 76, 87, 98)</td>\n",
       "      <td>1778</td>\n",
       "      <td>959</td>\n",
       "      <td>819</td>\n",
       "      <td>02213</td>\n",
       "      <td>125</td>\n",
       "      <td>3.500</td>\n",
       "      <td>6912.115861</td>\n",
       "      <td>0.539370</td>\n",
       "    </tr>\n",
       "    <tr>\n",
       "      <th>4</th>\n",
       "      <td>(28, 38, 43, 46, 50, 81, 102, 103)</td>\n",
       "      <td>1910</td>\n",
       "      <td>1064</td>\n",
       "      <td>846</td>\n",
       "      <td>02141</td>\n",
       "      <td>116</td>\n",
       "      <td>4.000</td>\n",
       "      <td>6769.385864</td>\n",
       "      <td>0.557068</td>\n",
       "    </tr>\n",
       "    <tr>\n",
       "      <th>...</th>\n",
       "      <td>...</td>\n",
       "      <td>...</td>\n",
       "      <td>...</td>\n",
       "      <td>...</td>\n",
       "      <td>...</td>\n",
       "      <td>...</td>\n",
       "      <td>...</td>\n",
       "      <td>...</td>\n",
       "      <td>...</td>\n",
       "    </tr>\n",
       "    <tr>\n",
       "      <th>327653</th>\n",
       "      <td>(7, 15, 17, 21, 43, 81, 87, 89)</td>\n",
       "      <td>1</td>\n",
       "      <td>1</td>\n",
       "      <td>0</td>\n",
       "      <td>00341</td>\n",
       "      <td>125</td>\n",
       "      <td>4.500</td>\n",
       "      <td>5577.000000</td>\n",
       "      <td>1.000000</td>\n",
       "    </tr>\n",
       "    <tr>\n",
       "      <th>327654</th>\n",
       "      <td>(13, 35, 39, 43, 48, 73, 95, 99)</td>\n",
       "      <td>1</td>\n",
       "      <td>1</td>\n",
       "      <td>0</td>\n",
       "      <td>02213</td>\n",
       "      <td>026</td>\n",
       "      <td>3.875</td>\n",
       "      <td>6087.000000</td>\n",
       "      <td>1.000000</td>\n",
       "    </tr>\n",
       "    <tr>\n",
       "      <th>327655</th>\n",
       "      <td>(11, 17, 18, 24, 51, 77, 95, 102)</td>\n",
       "      <td>1</td>\n",
       "      <td>1</td>\n",
       "      <td>0</td>\n",
       "      <td>01142</td>\n",
       "      <td>125</td>\n",
       "      <td>4.125</td>\n",
       "      <td>5838.000000</td>\n",
       "      <td>1.000000</td>\n",
       "    </tr>\n",
       "    <tr>\n",
       "      <th>327656</th>\n",
       "      <td>(4, 7, 11, 21, 64, 77, 88, 92)</td>\n",
       "      <td>1</td>\n",
       "      <td>0</td>\n",
       "      <td>1</td>\n",
       "      <td>00332</td>\n",
       "      <td>125</td>\n",
       "      <td>4.375</td>\n",
       "      <td>5858.000000</td>\n",
       "      <td>0.000000</td>\n",
       "    </tr>\n",
       "    <tr>\n",
       "      <th>327657</th>\n",
       "      <td>(7, 11, 17, 35, 59, 77, 82, 88)</td>\n",
       "      <td>1</td>\n",
       "      <td>1</td>\n",
       "      <td>0</td>\n",
       "      <td>01241</td>\n",
       "      <td>215</td>\n",
       "      <td>4.500</td>\n",
       "      <td>5283.000000</td>\n",
       "      <td>1.000000</td>\n",
       "    </tr>\n",
       "  </tbody>\n",
       "</table>\n",
       "<p>327658 rows × 9 columns</p>\n",
       "</div>"
      ],
      "text/plain": [
       "                                      Deck  Occurrences  Wins  losses Rarity  \\\n",
       "0          (8, 34, 37, 52, 69, 88, 92, 97)           30    17      13  12212   \n",
       "1         (11, 12, 13, 58, 77, 86, 87, 98)           22     9      13  01331   \n",
       "2        (11, 37, 53, 83, 88, 92, 97, 102)          183    83     100  02213   \n",
       "3         (19, 22, 25, 32, 54, 76, 87, 98)         1778   959     819  02213   \n",
       "4       (28, 38, 43, 46, 50, 81, 102, 103)         1910  1064     846  02141   \n",
       "...                                    ...          ...   ...     ...    ...   \n",
       "327653     (7, 15, 17, 21, 43, 81, 87, 89)            1     1       0  00341   \n",
       "327654    (13, 35, 39, 43, 48, 73, 95, 99)            1     1       0  02213   \n",
       "327655   (11, 17, 18, 24, 51, 77, 95, 102)            1     1       0  01142   \n",
       "327656      (4, 7, 11, 21, 64, 77, 88, 92)            1     0       1  00332   \n",
       "327657     (7, 11, 17, 35, 59, 77, 82, 88)            1     1       0  01241   \n",
       "\n",
       "       Composition  Average Elixir Cost     Trophies  Win Rate  \n",
       "0              035                4.250  6963.566667  0.566667  \n",
       "1              224                3.250  7339.909091  0.409091  \n",
       "2              143                3.750  6996.245902  0.453552  \n",
       "3              125                3.500  6912.115861  0.539370  \n",
       "4              116                4.000  6769.385864  0.557068  \n",
       "...            ...                  ...          ...       ...  \n",
       "327653         125                4.500  5577.000000  1.000000  \n",
       "327654         026                3.875  6087.000000  1.000000  \n",
       "327655         125                4.125  5838.000000  1.000000  \n",
       "327656         125                4.375  5858.000000  0.000000  \n",
       "327657         215                4.500  5283.000000  1.000000  \n",
       "\n",
       "[327658 rows x 9 columns]"
      ]
     },
     "execution_count": 30,
     "metadata": {},
     "output_type": "execute_result"
    }
   ],
   "source": [
    "elixir_analysis = data_decks.copy(deep=True)\n",
    "\n",
    "elixir_analysis['losses'] = elixir_analysis['Occurrences'] -elixir_analysis['Wins']\n",
    "\n",
    "elixir_analysis = elixir_analysis[['Deck','Occurrences','Wins','losses','Rarity','Composition','Costs','Trophies','Win Rate']]\n",
    "\n",
    "\n",
    "elixir_analysis.rename(columns={'Costs':'Average Elixir Cost'},inplace = True)\n",
    "elixir_analysis"
   ]
  },
  {
   "cell_type": "code",
   "execution_count": 75,
   "id": "fb5b38b0",
   "metadata": {},
   "outputs": [
    {
     "data": {
      "image/png": "[encoded data removed]",
      "text/plain": [
       "<Figure size 360x360 with 1 Axes>"
      ]
     },
     "metadata": {
      "needs_background": "light"
     },
     "output_type": "display_data"
    },
    {
     "name": "stdout",
     "output_type": "stream",
     "text": [
      "Min: 1.125 | Max: 7.25 | Median: 3.841473426560621 | Mean: 3.841473426560621\n"
     ]
    }
   ],
   "source": [
    "sns.displot(elixir_analysis, x ='Average Elixir Cost')\n",
    "plt.show()\n",
    "print(\"Min: \"+str(elixir_analysis['Average Elixir Cost'].min())+\" | \"+ \"Max: \"+str(elixir_analysis['Average Elixir Cost'].max())+\" | \"+\n",
    "    \"Median: \" +str(elixir_analysis['Average Elixir Cost'].mean())+\" | \"+ \"Mean: \"+str(elixir_analysis['Average Elixir Cost'].mean()))\n"
   ]
  },
  {
   "cell_type": "markdown",
   "id": "ca9dc771",
   "metadata": {},
   "source": [
    "Deck elixir cost versus Winrate scatterplot"
   ]
  },
  {
   "cell_type": "code",
   "execution_count": 33,
   "id": "398562d9",
   "metadata": {},
   "outputs": [
    {
     "data": {
      "image/png": "[encoded data removed]",
      "text/plain": [
       "<Figure size 576x288 with 1 Axes>"
      ]
     },
     "metadata": {
      "needs_background": "light"
     },
     "output_type": "display_data"
    }
   ],
   "source": [
    "plt.figure().set_figwidth(8)\n",
    "sns.scatterplot(data = elixir_analysis, x ='Average Elixir Cost', y = 'Win Rate')\n",
    "plt.show()"
   ]
  },
  {
   "cell_type": "code",
   "execution_count": 76,
   "id": "cea10a55",
   "metadata": {},
   "outputs": [
    {
     "data": {
      "image/png": "[encoded data removed]",
      "text/plain": [
       "<Figure size 360x360 with 1 Axes>"
      ]
     },
     "metadata": {
      "needs_background": "light"
     },
     "output_type": "display_data"
    },
    {
     "name": "stdout",
     "output_type": "stream",
     "text": [
      "Min: 30.0 | Max: 8264.0 | Median: 6140.412407816423 | Mean: 6140.412407816423\n"
     ]
    }
   ],
   "source": [
    "sns.displot(elixir_analysis, x ='Trophies')\n",
    "plt.show()\n",
    "print(\"Min: \"+str(elixir_analysis['Trophies'].min())+\" | \"+ \"Max: \"+str(elixir_analysis['Trophies'].max())+\" | \"+\n",
    "    \"Median: \" +str(elixir_analysis['Trophies'].mean())+\" | \"+ \"Mean: \"+str(elixir_analysis['Trophies'].mean()))"
   ]
  },
  {
   "cell_type": "markdown",
   "id": "a0b0ba85-d7a6-4ad8-87b7-9b1ac5256e94",
   "metadata": {},
   "source": [
    "Trophies vs elixir cost"
   ]
  },
  {
   "cell_type": "code",
   "execution_count": 77,
   "id": "38f40c86-e63e-48f6-bd8b-30e34bcc96cd",
   "metadata": {},
   "outputs": [
    {
     "data": {
      "image/png": "[encoded data removed]",
      "text/plain": [
       "<Figure size 576x288 with 1 Axes>"
      ]
     },
     "metadata": {
      "needs_background": "light"
     },
     "output_type": "display_data"
    }
   ],
   "source": [
    "plt.figure().set_figwidth(8)\n",
    "sns.scatterplot(data = elixir_analysis, x ='Average Elixir Cost', y = 'Trophies')\n",
    "plt.show()"
   ]
  },
  {
   "cell_type": "markdown",
   "id": "5cd93e92",
   "metadata": {},
   "source": [
    "Average Elixir Cost vs trophies binned "
   ]
  },
  {
   "cell_type": "code",
   "execution_count": 78,
   "id": "f8889616",
   "metadata": {},
   "outputs": [
    {
     "data": {
      "text/html": [
       "<div>\n",
       "<style scoped>\n",
       "    .dataframe tbody tr th:only-of-type {\n",
       "        vertical-align: middle;\n",
       "    }\n",
       "\n",
       "    .dataframe tbody tr th {\n",
       "        vertical-align: top;\n",
       "    }\n",
       "\n",
       "    .dataframe thead th {\n",
       "        text-align: right;\n",
       "    }\n",
       "</style>\n",
       "<table border=\"1\" class=\"dataframe\">\n",
       "  <thead>\n",
       "    <tr style=\"text-align: right;\">\n",
       "      <th></th>\n",
       "      <th>Deck</th>\n",
       "      <th>Occurrences</th>\n",
       "      <th>Wins</th>\n",
       "      <th>losses</th>\n",
       "      <th>Rarity</th>\n",
       "      <th>Composition</th>\n",
       "      <th>Average Elixir Cost</th>\n",
       "      <th>Trophies</th>\n",
       "      <th>Win Rate</th>\n",
       "      <th>bins</th>\n",
       "    </tr>\n",
       "  </thead>\n",
       "  <tbody>\n",
       "    <tr>\n",
       "      <th>0</th>\n",
       "      <td>(8, 34, 37, 52, 69, 88, 92, 97)</td>\n",
       "      <td>30</td>\n",
       "      <td>17</td>\n",
       "      <td>13</td>\n",
       "      <td>12212</td>\n",
       "      <td>035</td>\n",
       "      <td>4.250</td>\n",
       "      <td>6963.566667</td>\n",
       "      <td>0.566667</td>\n",
       "      <td>7000-7500</td>\n",
       "    </tr>\n",
       "    <tr>\n",
       "      <th>1</th>\n",
       "      <td>(11, 12, 13, 58, 77, 86, 87, 98)</td>\n",
       "      <td>22</td>\n",
       "      <td>9</td>\n",
       "      <td>13</td>\n",
       "      <td>01331</td>\n",
       "      <td>224</td>\n",
       "      <td>3.250</td>\n",
       "      <td>7339.909091</td>\n",
       "      <td>0.409091</td>\n",
       "      <td>7500-8000</td>\n",
       "    </tr>\n",
       "    <tr>\n",
       "      <th>2</th>\n",
       "      <td>(11, 37, 53, 83, 88, 92, 97, 102)</td>\n",
       "      <td>183</td>\n",
       "      <td>83</td>\n",
       "      <td>100</td>\n",
       "      <td>02213</td>\n",
       "      <td>143</td>\n",
       "      <td>3.750</td>\n",
       "      <td>6996.245902</td>\n",
       "      <td>0.453552</td>\n",
       "      <td>7000-7500</td>\n",
       "    </tr>\n",
       "    <tr>\n",
       "      <th>3</th>\n",
       "      <td>(19, 22, 25, 32, 54, 76, 87, 98)</td>\n",
       "      <td>1778</td>\n",
       "      <td>959</td>\n",
       "      <td>819</td>\n",
       "      <td>02213</td>\n",
       "      <td>125</td>\n",
       "      <td>3.500</td>\n",
       "      <td>6912.115861</td>\n",
       "      <td>0.539370</td>\n",
       "      <td>7000-7500</td>\n",
       "    </tr>\n",
       "    <tr>\n",
       "      <th>4</th>\n",
       "      <td>(28, 38, 43, 46, 50, 81, 102, 103)</td>\n",
       "      <td>1910</td>\n",
       "      <td>1064</td>\n",
       "      <td>846</td>\n",
       "      <td>02141</td>\n",
       "      <td>116</td>\n",
       "      <td>4.000</td>\n",
       "      <td>6769.385864</td>\n",
       "      <td>0.557068</td>\n",
       "      <td>7000-7500</td>\n",
       "    </tr>\n",
       "    <tr>\n",
       "      <th>...</th>\n",
       "      <td>...</td>\n",
       "      <td>...</td>\n",
       "      <td>...</td>\n",
       "      <td>...</td>\n",
       "      <td>...</td>\n",
       "      <td>...</td>\n",
       "      <td>...</td>\n",
       "      <td>...</td>\n",
       "      <td>...</td>\n",
       "      <td>...</td>\n",
       "    </tr>\n",
       "    <tr>\n",
       "      <th>327653</th>\n",
       "      <td>(7, 15, 17, 21, 43, 81, 87, 89)</td>\n",
       "      <td>1</td>\n",
       "      <td>1</td>\n",
       "      <td>0</td>\n",
       "      <td>00341</td>\n",
       "      <td>125</td>\n",
       "      <td>4.500</td>\n",
       "      <td>5577.000000</td>\n",
       "      <td>1.000000</td>\n",
       "      <td>6000-6500</td>\n",
       "    </tr>\n",
       "    <tr>\n",
       "      <th>327654</th>\n",
       "      <td>(13, 35, 39, 43, 48, 73, 95, 99)</td>\n",
       "      <td>1</td>\n",
       "      <td>1</td>\n",
       "      <td>0</td>\n",
       "      <td>02213</td>\n",
       "      <td>026</td>\n",
       "      <td>3.875</td>\n",
       "      <td>6087.000000</td>\n",
       "      <td>1.000000</td>\n",
       "      <td>6500-7000</td>\n",
       "    </tr>\n",
       "    <tr>\n",
       "      <th>327655</th>\n",
       "      <td>(11, 17, 18, 24, 51, 77, 95, 102)</td>\n",
       "      <td>1</td>\n",
       "      <td>1</td>\n",
       "      <td>0</td>\n",
       "      <td>01142</td>\n",
       "      <td>125</td>\n",
       "      <td>4.125</td>\n",
       "      <td>5838.000000</td>\n",
       "      <td>1.000000</td>\n",
       "      <td>6000-6500</td>\n",
       "    </tr>\n",
       "    <tr>\n",
       "      <th>327656</th>\n",
       "      <td>(4, 7, 11, 21, 64, 77, 88, 92)</td>\n",
       "      <td>1</td>\n",
       "      <td>0</td>\n",
       "      <td>1</td>\n",
       "      <td>00332</td>\n",
       "      <td>125</td>\n",
       "      <td>4.375</td>\n",
       "      <td>5858.000000</td>\n",
       "      <td>0.000000</td>\n",
       "      <td>6000-6500</td>\n",
       "    </tr>\n",
       "    <tr>\n",
       "      <th>327657</th>\n",
       "      <td>(7, 11, 17, 35, 59, 77, 82, 88)</td>\n",
       "      <td>1</td>\n",
       "      <td>1</td>\n",
       "      <td>0</td>\n",
       "      <td>01241</td>\n",
       "      <td>215</td>\n",
       "      <td>4.500</td>\n",
       "      <td>5283.000000</td>\n",
       "      <td>1.000000</td>\n",
       "      <td>5000-5500</td>\n",
       "    </tr>\n",
       "  </tbody>\n",
       "</table>\n",
       "<p>327658 rows × 10 columns</p>\n",
       "</div>"
      ],
      "text/plain": [
       "                                      Deck  Occurrences  Wins  losses Rarity  \\\n",
       "0          (8, 34, 37, 52, 69, 88, 92, 97)           30    17      13  12212   \n",
       "1         (11, 12, 13, 58, 77, 86, 87, 98)           22     9      13  01331   \n",
       "2        (11, 37, 53, 83, 88, 92, 97, 102)          183    83     100  02213   \n",
       "3         (19, 22, 25, 32, 54, 76, 87, 98)         1778   959     819  02213   \n",
       "4       (28, 38, 43, 46, 50, 81, 102, 103)         1910  1064     846  02141   \n",
       "...                                    ...          ...   ...     ...    ...   \n",
       "327653     (7, 15, 17, 21, 43, 81, 87, 89)            1     1       0  00341   \n",
       "327654    (13, 35, 39, 43, 48, 73, 95, 99)            1     1       0  02213   \n",
       "327655   (11, 17, 18, 24, 51, 77, 95, 102)            1     1       0  01142   \n",
       "327656      (4, 7, 11, 21, 64, 77, 88, 92)            1     0       1  00332   \n",
       "327657     (7, 11, 17, 35, 59, 77, 82, 88)            1     1       0  01241   \n",
       "\n",
       "       Composition  Average Elixir Cost     Trophies  Win Rate       bins  \n",
       "0              035                4.250  6963.566667  0.566667  7000-7500  \n",
       "1              224                3.250  7339.909091  0.409091  7500-8000  \n",
       "2              143                3.750  6996.245902  0.453552  7000-7500  \n",
       "3              125                3.500  6912.115861  0.539370  7000-7500  \n",
       "4              116                4.000  6769.385864  0.557068  7000-7500  \n",
       "...            ...                  ...          ...       ...        ...  \n",
       "327653         125                4.500  5577.000000  1.000000  6000-6500  \n",
       "327654         026                3.875  6087.000000  1.000000  6500-7000  \n",
       "327655         125                4.125  5838.000000  1.000000  6000-6500  \n",
       "327656         125                4.375  5858.000000  0.000000  6000-6500  \n",
       "327657         215                4.500  5283.000000  1.000000  5000-5500  \n",
       "\n",
       "[327658 rows x 10 columns]"
      ]
     },
     "execution_count": 78,
     "metadata": {},
     "output_type": "execute_result"
    }
   ],
   "source": [
    "bins = [5000,5500,6000,6500,7000,7500,8500]\n",
    "label = ['5000-5500','6000-6500','6500-7000','7000-7500','7500-8000','8000-8500']\n",
    "elixir_analysis['bins'] = pd.cut(elixir_analysis['Trophies'],bins=bins,labels=label)\n",
    "elixir_analysis"
   ]
  },
  {
   "cell_type": "code",
   "execution_count": 79,
   "id": "4392cdc6",
   "metadata": {},
   "outputs": [
    {
     "data": {
      "image/png": "[encoded data removed]",
      "text/plain": [
       "<Figure size 432x288 with 1 Axes>"
      ]
     },
     "metadata": {
      "needs_background": "light"
     },
     "output_type": "display_data"
    }
   ],
   "source": [
    "\n",
    "\n",
    "\n",
    "# getting continents and correspsonding residual\n",
    "bined = [1,2,3,4,5,6]\n",
    "avg_elixir = []\n",
    "elixir_analysis.groupby(\"bins\").apply(lambda x: avg_elixir.append(x[\"Average Elixir Cost\"]))\n",
    "\n",
    "# Constructing the plot\n",
    "fig, ax = plt.subplots()\n",
    "ax.violinplot(avg_elixir,bined,showmeans=True)\n",
    "# setting labels and title\n",
    "ax.set_xlabel(\"Trophy bins\")\n",
    "ax.set_ylabel(\"Elixir cost of decks\")\n",
    "\n",
    "ax.set_xticks(bined)\n",
    "ax.set_xticklabels(['5000-5500','6000-6500','6500-7000','7000-7500','7500-8000','8000-8500'])\n",
    "fig.show()\n",
    "\n"
   ]
  },
  {
   "cell_type": "markdown",
   "id": "c1df27f3",
   "metadata": {},
   "source": [
    "This illustrates that there is a weak correlation between win rate and deck elixir cost with a high certainty.   "
   ]
  },
  {
   "cell_type": "markdown",
   "id": "20a9025d",
   "metadata": {},
   "source": [
    "Extra conclusions "
   ]
  },
  {
   "cell_type": "markdown",
   "id": "2a15a743-045d-4347-88b4-8bbfe64f290f",
   "metadata": {},
   "source": [
    "These results agree with the trend we found in the most and least common rarity compositions. There tends to be a majority of decks that are diverse. This also agrees with our findings that champions are not typically used. The usage data for common, rare, epic, and legendary cards is normally distributed, while the usage data of champions is not. \n",
    "\n",
    "## Hypothesis Testing\n",
    "### Testing For Correlation Between Composition and Win Rate\n",
    "We will be using two main tests to investigate correlation. We will use the Pearson Correlation Coefficient test whenever our data is normally distributed and the Spearman Correlation Coefficient test whenever our data is not normally distributed.\n",
    "#### Null Hypothesis 1: There is no correlation between the number of units in a deck and win rate\n",
    "Our Null Hypothesis states that correlation between the number of units in a deck and win rate is 0.\n",
    "To attempt to accept or reject this, we will use a Pearson Correlation Coefficient test since the usage of units is normally distributed."
   ]
  },
  {
   "cell_type": "code",
   "execution_count": null,
   "id": "62655dda-3b60-4f03-9888-9fbbb2acca71",
   "metadata": {},
   "outputs": [],
   "source": [
    "# There is no correlation between number of units and win rate\n",
    "win_rate = data_decks['Win Rate']\n",
    "units = data_decks['Composition'].apply(lambda x: int(x[2]))\n",
    "\n",
    "corr, p = pearsonr(win_rate, units)\n",
    "print('Pearsons correlation: %.3f' % corr)\n",
    "print('Pearsons correlation P Value: %e' % p)"
   ]
  },
  {
   "cell_type": "markdown",
   "id": "59aca2a8-1b04-429f-ad75-b77f07db6d5b",
   "metadata": {},
   "source": [
    "This indicates that there is a weak negative correlation between the number of units in a deck and win rate. There is high certainty that the Null Hypothesis has been rejected since P Value < .01.\n",
    "\n",
    "#### Null Hypothesis 2: There is no correlation between the number of spells in a deck and win rate\n",
    "Our Null Hypothesis states that correlation between the number of spells in a deck and win rate is 0.\n",
    "To attempt to accept or reject this, we will use a Pearson Correlation Coefficient test since the usage of spells is normally distributed."
   ]
  },
  {
   "cell_type": "code",
   "execution_count": null,
   "id": "a64f4b77-2f4f-48c5-b128-cd232b2f3bdf",
   "metadata": {},
   "outputs": [],
   "source": [
    "# There is no correlation between number of spells and win rate\n",
    "spells = data_decks['Composition'].apply(lambda x: int(x[1]))\n",
    "\n",
    "corr, p = pearsonr(win_rate, spells)\n",
    "print('Pearsons correlation: %.3f' % corr)\n",
    "print('Pearsons correlation pval: %e' % p)"
   ]
  },
  {
   "cell_type": "markdown",
   "id": "98b6a2c3-4869-41c4-be36-c566e863e246",
   "metadata": {},
   "source": [
    "This indicates that there is a weak positive correlation between the number of spells in a deck and win rate. It is somewhat more significant than the correlation between units and win rate. There is high certainty that the Null Hypothesis has been rejected since P Value < .01.\n",
    "\n",
    "#### Null Hypothesis 3: There is no correlation between the number of buildings in a deck and win rate\n",
    "Our Null Hypothesis states that correlation between the number of buildings in a deck and win rate is 0.\n",
    "To attempt to accept or reject this, we will use a Spearman Correlation Coefficient test since the usage of buildings is not normally distributed."
   ]
  },
  {
   "cell_type": "code",
   "execution_count": null,
   "id": "c6a3c69f-a18c-4a8f-be3c-41d81fe0fda6",
   "metadata": {},
   "outputs": [],
   "source": [
    "# There is no correlation between number of buildings and win rate\n",
    "buildings = data_decks['Composition'].apply(lambda x: int(x[0]))\n",
    "\n",
    "corr, p = spearmanr(win_rate, buildings)\n",
    "print('Spearman correlation: %.3f' % corr)\n",
    "print('Spearman correlation pval: %e' % p)"
   ]
  },
  {
   "cell_type": "markdown",
   "id": "8cb8d218-4139-437e-9d49-ed32710ccfa8",
   "metadata": {},
   "source": [
    "There is a weak correlation between buildings and win rate, but very high uncertainty about the result since P Value > .1. This means that we accept the Null Hypothesis that there is no correlation between buildings and win rate. One reason this P Value might have been so high is due to the lower usage of buildings in general.\n",
    "\n",
    "### Testing For Correlation Between Rarity Composition and Win Rate\n",
    "We will again be using the Pearson Correlation Coefficient test whenever our data is normally distributed and the Spearman Correlation Coefficient test whenever our data is not normally distributed.\n",
    "#### Null Hypothesis 1: There is no correlation between the number of commons in a deck and win rate\n",
    "Our Null Hypothesis states that correlation between the number of commons in a deck and win rate is 0.\n",
    "To attempt to accept or reject this, we will use a Pearson Correlation Coefficient test since the usage of commons is normally distributed."
   ]
  },
  {
   "cell_type": "code",
   "execution_count": null,
   "id": "b9406f65-349e-4e1e-bfda-75a4f8a37dc1",
   "metadata": {},
   "outputs": [],
   "source": [
    "# There is no correlation between number of commons and win rate\n",
    "common = data_decks['Rarity'].apply(lambda x: int(x[4]))\n",
    "\n",
    "corr, p = pearsonr(win_rate, common)\n",
    "print('Pearsons correlation: %.3f' % corr)\n",
    "print('Pearsons correlation pval: %e' % p)"
   ]
  },
  {
   "cell_type": "markdown",
   "id": "275a7cec-d094-41ae-8ddc-6240d066f8fe",
   "metadata": {},
   "source": [
    "This indicates that there is a weak negative correlation between the number of commons in a deck and win rate. It is much more significant than the correlations found when analyzing composition. There is extremely high certainty that the Null Hypothesis has been rejected since P Value < .01.\n",
    "\n",
    "#### Null Hypothesis 2: There is no correlation between the number of rares in a deck and win rate\n",
    "Our Null Hypothesis states that correlation between the number of rares in a deck and win rate is 0.\n",
    "To attempt to accept or reject this, we will use a Pearson Correlation Coefficient test since the usage of rares is normally distributed."
   ]
  },
  {
   "cell_type": "code",
   "execution_count": null,
   "id": "bb63a1d0-97e3-4e35-867b-265404dd98fc",
   "metadata": {},
   "outputs": [],
   "source": [
    "rare = data_decks['Rarity'].apply(lambda x: int(x[3]))\n",
    "\n",
    "corr, p = pearsonr(win_rate, rare)\n",
    "print('Pearsons correlation: %.3f' % corr)\n",
    "print('Pearsons correlation pval: %e' % p)"
   ]
  },
  {
   "cell_type": "markdown",
   "id": "62f9db01-0f69-4bc3-b945-3be3f84f018d",
   "metadata": {},
   "source": [
    "This indicates that there is a weak negative correlation between the number of rares in a deck and win rate. It is more significant than the correlations between commons and win rate. There is extremely high certainty that the Null Hypothesis has been rejected since P Value < .01.\n",
    "\n",
    "#### Null Hypothesis 3: There is no correlation between the number of epics in a deck and win rate\n",
    "Our Null Hypothesis states that correlation between the number of epics in a deck and win rate is 0.\n",
    "To attempt to accept or reject this, we will use a Pearson Correlation Coefficient test since the usage of epics is normally distributed."
   ]
  },
  {
   "cell_type": "code",
   "execution_count": null,
   "id": "6230fb7d-180b-45b5-a6ce-3f7e99c39495",
   "metadata": {},
   "outputs": [],
   "source": [
    "epic = data_decks['Rarity'].apply(lambda x: int(x[2]))\n",
    "\n",
    "corr, p = pearsonr(win_rate, epic)\n",
    "print('Pearsons correlation: %.3f' % corr)\n",
    "print('Pearsons correlation pval: %e' % p)"
   ]
  },
  {
   "cell_type": "markdown",
   "id": "b3a396dc-3245-40c1-89b8-2ecf7eb1c001",
   "metadata": {},
   "source": [
    "This indicates that there is a weak positive correlation between the number of epics in a deck and win rate. It is the first positive correlation found in rarity composition which may indicate higher rarities lead to better win rates. There is extremely high certainty that the Null Hypothesis has been rejected since P Value < .01.\n",
    "\n",
    "#### Null Hypothesis 4: There is no correlation between the number of legendaries in a deck and win rate\n",
    "Our Null Hypothesis states that correlation between the number of legendaries in a deck and win rate is 0.\n",
    "To attempt to accept or reject this, we will use a Pearson Correlation Coefficient test since the usage of legendaries is normally distributed."
   ]
  },
  {
   "cell_type": "code",
   "execution_count": null,
   "id": "9d5dcfa1-6ab8-4645-a79f-d0d4cd378921",
   "metadata": {},
   "outputs": [],
   "source": [
    "legendary = data_decks['Rarity'].apply(lambda x: int(x[1]))\n",
    "\n",
    "corr, p = pearsonr(win_rate, legendary)\n",
    "print('Pearsons correlation: %.3f' % corr)\n",
    "print('Pearsons correlation pval: %e' % p)"
   ]
  },
  {
   "cell_type": "markdown",
   "id": "34e1d0ac-c683-43c1-ad58-2c84423bf987",
   "metadata": {},
   "source": [
    "This indicates that there is a weak positive correlation between the number of legendaries in a deck and win rate. It is also a positive correlation reaffirming the notion that higher rarity might lead to better win rate. It also is slightly stronger than the correlation between epics and win rate. There is extremely high certainty that the Null Hypothesis has been rejected since P Value < .01.\n",
    "\n",
    "#### Null Hypothesis 5: There is no correlation between the number of champions in a deck and win rate\n",
    "Our Null Hypothesis states that correlation between the number of champions in a deck and win rate is 0.\n",
    "To attempt to accept or reject this, we will use a Spearman Correlation Coefficient test since the usage of champions is not normally distributed."
   ]
  },
  {
   "cell_type": "code",
   "execution_count": null,
   "id": "30d6cf27-b613-432b-bb49-76bc864fc50a",
   "metadata": {},
   "outputs": [],
   "source": [
    "champion = data_decks['Rarity'].apply(lambda x: int(x[0]))\n",
    "\n",
    "corr, p = spearmanr(win_rate, champion)\n",
    "print('Spearman correlation: %.3f' % corr)\n",
    "print('Spearman correlation pval: %e' % p)"
   ]
  },
  {
   "cell_type": "markdown",
   "id": "1f5820b2-f7ed-4302-a9f6-dfb0d10486ea",
   "metadata": {},
   "source": [
    "There is a weak positive correlation between champions and win rate. This is also a positive correlation which cements the notion that higher rarities lead to higher win rate. There is extremely high certainty that the Null Hypothesis has been rejected since P Value < .01.\n",
    "#### Analysis of results\n",
    "We rejected all but one null hypothesis.\n",
    "Epics, legendaries, and champions all had higher correlations between win rate than commons and rares did. That said, this means that using them in high concentrations is more favorable than using commons and rares in high concentrations. Also, all of the correlations were generally pretty weak. In general, the best decks we saw were all rather diverse."
   ]
  },
  {
   "cell_type": "markdown",
   "id": "b504c6bb",
   "metadata": {},
   "source": [
    "Hypothesis: There is no correlation between deck average elixir cost and winrate."
   ]
  },
  {
   "cell_type": "code",
   "execution_count": null,
   "id": "d20ec8a1",
   "metadata": {},
   "outputs": [],
   "source": [
    "win_rate_eli = elixir_analysis['Win Rate']\n",
    "units_eli = elixir_analysis['Average Elixir Cost']\n",
    "\n",
    "corr, p = pearsonr(win_rate_eli, units_eli)\n",
    "\n",
    "print('Pearsons correlation: %.3f' % corr)\n",
    "print('Pearsons correlation pval: %e' % p)"
   ]
  },
  {
   "cell_type": "markdown",
   "id": "d3afc0c1-4de1-4a42-92b6-1d1616f2a820",
   "metadata": {},
   "source": [
    "## Communication of Insights Attained"
   ]
  },
  {
   "cell_type": "code",
   "execution_count": null,
   "id": "dfef12de-ff04-4d40-9b8d-02666c41342c",
   "metadata": {},
   "outputs": [],
   "source": [
    "win_rate = data_decks['Win Rate']\n",
    "units = data_decks['Costs']\n",
    "\n",
    "corr, p = pearsonr(win_rate, units)\n",
    "print('Pearsons correlation: %.3f' % corr)\n",
    "print('Pearsons correlation pval: %e' % p)\n",
    "corr, p = spearmanr(win_rate, units)\n",
    "print('Spearman correlation: %.3f' % corr)\n",
    "print('Spearman correlation pval: %e' % p)"
   ]
  },
  {
   "cell_type": "code",
   "execution_count": null,
   "id": "19382834-ca18-4066-8e22-e621e5162dd1",
   "metadata": {},
   "outputs": [],
   "source": [
    "print(data_decks['Costs'].mean())\n",
    "print(data_decks[data_decks['Win Rate'] > .50]['Costs'].mean())\n",
    "print(data_decks[data_decks['Win Rate'] < .50]['Costs'].mean())"
   ]
  },
  {
   "cell_type": "code",
   "execution_count": null,
   "id": "5d6d3b52-6de2-4682-af7a-aebfcada1bc7",
   "metadata": {},
   "outputs": [],
   "source": []
  }
 ],
 "metadata": {
  "kernelspec": {
   "display_name": "Python 3 (ipykernel)",
   "language": "python",
   "name": "python3"
  },
  "language_info": {
   "codemirror_mode": {
    "name": "ipython",
    "version": 3
   },
   "file_extension": ".py",
   "mimetype": "text/x-python",
   "name": "python",
   "nbconvert_exporter": "python",
   "pygments_lexer": "ipython3",
   "version": "3.9.7"
  },
  "vscode": {
   "interpreter": {
    "hash": "85d2c8b82a1df5380a0062bf70854aff7010c9441518c746a1a9d9b6c0add8f6"
   }
  }
 },
 "nbformat": 4,
 "nbformat_minor": 5
}
